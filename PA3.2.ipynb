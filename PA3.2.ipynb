{
 "cells": [
  {
   "cell_type": "markdown",
   "id": "df9a2e9d-5fa4-4b11-aed9-d3227721feea",
   "metadata": {},
   "source": [
    "### Import data from text files"
   ]
  },
  {
   "cell_type": "code",
   "execution_count": 1,
   "id": "7e4da4ca-649d-4a3e-b623-e62e73f4c0b2",
   "metadata": {},
   "outputs": [],
   "source": [
    "import os\n",
    "import glob\n",
    "import re\n",
    "import nltk\n",
    "from nltk.stem import PorterStemmer\n",
    "from nltk.tokenize import word_tokenize\n",
    "from bs4 import BeautifulSoup\n",
    "import emoji\n",
    "from collections import Counter, defaultdict"
   ]
  },
  {
   "cell_type": "code",
   "execution_count": 2,
   "id": "48c8c4e9-7613-4155-9808-13a7fa06f14e",
   "metadata": {},
   "outputs": [],
   "source": [
    "import os\n",
    "import glob\n",
    "\n",
    "def load_data(base_path):\n",
    "    data = []\n",
    "    labels = []\n",
    "    os.chdir(base_path)\n",
    "    \n",
    "    for sentiment in ['positive', 'negative']:\n",
    "        os.chdir(sentiment)\n",
    "        files = glob.glob('*.txt')\n",
    "        for file_name in files:\n",
    "            with open(file_name, 'r', encoding='utf-8') as file:\n",
    "                content = file.read().strip()\n",
    "                data.append(content)\n",
    "                labels.append(1 if sentiment == 'positive' else 0)\n",
    "        \n",
    "        os.chdir('..')\n",
    "\n",
    "    os.chdir('..')\n",
    "    return data, labels\n",
    "\n",
    "base_path = '.'\n",
    "train_data, train_labels = load_data(base_path + '/train')\n",
    "test_data, test_labels = load_data(base_path + '/test')\n"
   ]
  },
  {
   "cell_type": "code",
   "execution_count": 3,
   "id": "42ceac39-6497-4bc6-ace4-0743fe4d0074",
   "metadata": {
    "tags": []
   },
   "outputs": [
    {
     "name": "stdout",
     "output_type": "stream",
     "text": [
      "['@SouthwestAir I would appreciate that.  Thank you.', '@USAirways thank you very much.', \"@JetBlue I'm all set. About to fly. Not bad for a first date with a giant metal bird machine. She even brought snacks.\", '@SouthwestAir I got a flight at 11:55am on Thursday but looking for something tomorrow anything available?', \"@AmericanAir you're my early frontrunner for best airline! #oscars2016\"]\n",
      "['@united maybe on my return trip 👍', \"@AmericanAir no kidding! Gonna take some beating on the apron... And there are some good lookin' planes out there!\", '@AmericanAir thanks', '@AmericanAir many trips coming up!  I will see you soon 😃', '@JetBlue Thank you guys! Brilliant customer service']\n"
     ]
    }
   ],
   "source": [
    "print(train_data[:5])\n",
    "print(test_data[:5])"
   ]
  },
  {
   "cell_type": "markdown",
   "id": "e63407b9-118d-4475-ae44-5f5d367ccabc",
   "metadata": {},
   "source": [
    "### Clean data"
   ]
  },
  {
   "cell_type": "markdown",
   "id": "8b54fd3a-535f-4601-9a74-1b6bc9585df2",
   "metadata": {},
   "source": [
    "#### Lowercase capitals at the beginning of words"
   ]
  },
  {
   "cell_type": "code",
   "execution_count": 4,
   "id": "ae12b30e-9b4b-4053-be4b-2abf4694f0f1",
   "metadata": {
    "tags": []
   },
   "outputs": [],
   "source": [
    "def lowercase_caps(text):\n",
    "\n",
    "    def lower_first_letter(match):\n",
    "        return match.group(1) + match.group(2).lower() + match.group(3)\n",
    "\n",
    "    pattern = r'(\\A|\\.\\s+|\\?\\s+|!\\s+)([A-Z])(\\w*)'\n",
    "    result = re.sub(pattern, lower_first_letter, text)\n",
    "    \n",
    "    return result"
   ]
  },
  {
   "cell_type": "code",
   "execution_count": 5,
   "id": "d324e1c1-d687-491a-815b-46568f74fe02",
   "metadata": {
    "tags": []
   },
   "outputs": [],
   "source": [
    "train_lower = [lowercase_caps(tweet) for tweet in train_data]\n",
    "test_lower = [lowercase_caps(tweet) for tweet in test_data]"
   ]
  },
  {
   "cell_type": "code",
   "execution_count": null,
   "id": "275f9768-f1e0-46fc-b90b-f5c292444077",
   "metadata": {},
   "outputs": [],
   "source": []
  },
  {
   "cell_type": "markdown",
   "id": "e2bd588c-3450-440f-a15a-8402f2dbf15b",
   "metadata": {},
   "source": [
    "#### Tokenize, build vocabulary"
   ]
  },
  {
   "cell_type": "code",
   "execution_count": 6,
   "id": "70fc6b74-3cd7-4c34-a57c-c0c963faac86",
   "metadata": {},
   "outputs": [],
   "source": [
    "def demojize_text(text):\n",
    "    return emoji.demojize(text)\n",
    "\n",
    "train_lower_demoj = [demojize_text(tweet) for tweet in train_lower]\n",
    "test_lower_demoj = [demojize_text(tweet) for tweet in test_lower]"
   ]
  },
  {
   "cell_type": "markdown",
   "id": "341aec10-0560-40d2-88b1-60257d8936c9",
   "metadata": {},
   "source": [
    "#### Create 2 versions of V: with stemming and without stemming"
   ]
  },
  {
   "cell_type": "code",
   "execution_count": 7,
   "id": "f318f889-b6b2-4003-a612-dd4c0c4962f3",
   "metadata": {
    "tags": []
   },
   "outputs": [],
   "source": [
    "def tokenize(text):\n",
    "    return word_tokenize(text)\n",
    "\n",
    "def stem_tokens(tokens, stemmer):\n",
    "    return [stemmer.stem(token) for token in tokens]\n",
    "\n",
    "def build_vocabulary(texts, use_stemming=False):\n",
    "    \"\"\" Build vocabulary with optional stemming \"\"\"\n",
    "    stemmer = PorterStemmer()\n",
    "    vocabulary = Counter()\n",
    "\n",
    "    for text in texts:\n",
    "        tokens = tokenize(text)\n",
    "        if use_stemming:\n",
    "            tokens = stem_tokens(tokens, stemmer)\n",
    "        vocabulary.update(tokens)\n",
    "\n",
    "    return list(vocabulary.keys())"
   ]
  },
  {
   "cell_type": "code",
   "execution_count": 8,
   "id": "b3cca02a-3d03-4c1b-9724-587916c1e374",
   "metadata": {
    "tags": []
   },
   "outputs": [
    {
     "name": "stdout",
     "output_type": "stream",
     "text": [
      "V without Stemming: ['@', 'SouthwestAir', 'I', 'would', 'appreciate', 'that', '.', 'thank', 'you', 'USAirways', 'very', 'much', 'JetBlue', \"'m\", 'all', 'set', 'about', 'to', 'fly', 'not', 'bad', 'for', 'a', 'first', 'date', 'with', 'giant', 'metal', 'bird', 'machine', 'she', 'even', 'brought', 'snacks', 'got', 'flight', 'at', '11:55am', 'on', 'Thursday', 'but', 'looking', 'something', 'tomorrow', 'anything', 'available', '?', 'AmericanAir', \"'re\", 'my', 'early', 'frontrunner', 'best', 'airline', '!', '#', 'oscars2016', 'RedCarpet', 'Southwest', 'Companion', 'Pass', 'be', 'great', 'major', 'issues', 'getting', 'out', 'of', 'Boston', 'your', 'crew', 'has', 'been', 'exceptional', 'let', \"'s\", 'see', 'how', 'things', 'roll', 'in', 'Philly', 'thanks', 'i', 'prompt', 'response', 'united', 'such', 'relaxing', 'space', 'drink', 'before', '(', 'United', 'Global', 'First', 'Lounge', ')', 'https', ':']\n",
      "V with Stemming: ['@', 'southwestair', 'i', 'would', 'appreci', 'that', '.', 'thank', 'you', 'usairway', 'veri', 'much', 'jetblu', \"'m\", 'all', 'set', 'about', 'to', 'fli', 'not', 'bad', 'for', 'a', 'first', 'date', 'with', 'giant', 'metal', 'bird', 'machin', 'she', 'even', 'brought', 'snack', 'got', 'flight', 'at', '11:55am', 'on', 'thursday', 'but', 'look', 'someth', 'tomorrow', 'anyth', 'avail', '?', 'americanair', \"'re\", 'my', 'earli', 'frontrunn', 'best', 'airlin', '!', '#', 'oscars2016', 'redcarpet', 'southwest', 'companion', 'pass', 'be', 'great', 'major', 'issu', 'get', 'out', 'of', 'boston', 'your', 'crew', 'ha', 'been', 'except', 'let', \"'s\", 'see', 'how', 'thing', 'roll', 'in', 'philli', 'prompt', 'respons', 'unit', 'such', 'relax', 'space', 'drink', 'befor', '(', 'global', 'loung', ')', 'http', ':', '//t.co/j4cj0lrf2d', '//t.co/dtlguq1kak', 'ok.', 'just']\n"
     ]
    }
   ],
   "source": [
    "v_stemming = build_vocabulary(train_lower_demoj, use_stemming=False)\n",
    "v_no_stemming = build_vocabulary(train_lower_demoj, use_stemming=True)\n",
    "\n",
    "print(\"V without Stemming:\", v_stemming[:100])\n",
    "print(\"V with Stemming:\", v_no_stemming[:100])"
   ]
  },
  {
   "cell_type": "code",
   "execution_count": 9,
   "id": "5c181a7b-cfab-410c-94d0-40404cb60cbf",
   "metadata": {},
   "outputs": [],
   "source": [
    "import pandas as pd"
   ]
  },
  {
   "cell_type": "code",
   "execution_count": 10,
   "id": "02b637d9",
   "metadata": {},
   "outputs": [
    {
     "data": {
      "text/html": [
       "<div>\n",
       "<style scoped>\n",
       "    .dataframe tbody tr th:only-of-type {\n",
       "        vertical-align: middle;\n",
       "    }\n",
       "\n",
       "    .dataframe tbody tr th {\n",
       "        vertical-align: top;\n",
       "    }\n",
       "\n",
       "    .dataframe thead th {\n",
       "        text-align: right;\n",
       "    }\n",
       "</style>\n",
       "<table border=\"1\" class=\"dataframe\">\n",
       "  <thead>\n",
       "    <tr style=\"text-align: right;\">\n",
       "      <th></th>\n",
       "      <th>text</th>\n",
       "      <th>label</th>\n",
       "    </tr>\n",
       "  </thead>\n",
       "  <tbody>\n",
       "    <tr>\n",
       "      <th>0</th>\n",
       "      <td>@SouthwestAir I would appreciate that.  Thank ...</td>\n",
       "      <td>1</td>\n",
       "    </tr>\n",
       "    <tr>\n",
       "      <th>1</th>\n",
       "      <td>@USAirways thank you very much.</td>\n",
       "      <td>1</td>\n",
       "    </tr>\n",
       "    <tr>\n",
       "      <th>2</th>\n",
       "      <td>@JetBlue I'm all set. About to fly. Not bad fo...</td>\n",
       "      <td>1</td>\n",
       "    </tr>\n",
       "    <tr>\n",
       "      <th>3</th>\n",
       "      <td>@SouthwestAir I got a flight at 11:55am on Thu...</td>\n",
       "      <td>1</td>\n",
       "    </tr>\n",
       "    <tr>\n",
       "      <th>4</th>\n",
       "      <td>@AmericanAir you're my early frontrunner for b...</td>\n",
       "      <td>1</td>\n",
       "    </tr>\n",
       "  </tbody>\n",
       "</table>\n",
       "</div>"
      ],
      "text/plain": [
       "                                                text  label\n",
       "0  @SouthwestAir I would appreciate that.  Thank ...      1\n",
       "1                    @USAirways thank you very much.      1\n",
       "2  @JetBlue I'm all set. About to fly. Not bad fo...      1\n",
       "3  @SouthwestAir I got a flight at 11:55am on Thu...      1\n",
       "4  @AmericanAir you're my early frontrunner for b...      1"
      ]
     },
     "execution_count": 10,
     "metadata": {},
     "output_type": "execute_result"
    }
   ],
   "source": [
    "# dictionary of lists \n",
    "dictionary = {'text': train_data, 'label': train_labels} \n",
    "   \n",
    "df = pd.DataFrame(dictionary)\n",
    "\n",
    "df.head()"
   ]
  },
  {
   "cell_type": "code",
   "execution_count": 11,
   "id": "dfcdb61d",
   "metadata": {},
   "outputs": [],
   "source": [
    "positive_words_stemmed = []\n",
    "positive_words_nostem = []\n",
    "\n",
    "#list of all words where label = 1\n",
    "for index, row in df[df['label'] == 1].iterrows():\n",
    "    lower_tweet = lowercase_caps(row['text'])\n",
    "    demoj_tweet = demojize_text(lower_tweet)\n",
    "    tokenized_tweet = word_tokenize(demoj_tweet)\n",
    "    \n",
    "    positive_words_stemmed.extend(build_vocabulary(tokenized_tweet, use_stemming=True))\n",
    "    positive_words_nostem.extend(build_vocabulary(tokenized_tweet, use_stemming=False))"
   ]
  },
  {
   "cell_type": "code",
   "execution_count": 12,
   "id": "7dae351e",
   "metadata": {},
   "outputs": [],
   "source": [
    "negative_words_stemmed = []\n",
    "negative_words_nostem = []\n",
    "\n",
    "#list of all words where label= 0\n",
    "for index, row in df[df['label'] == 0].iterrows():\n",
    "    lower_tweet = lowercase_caps(row['text'])\n",
    "    demoj_tweet = demojize_text(lower_tweet)\n",
    "    tokenized_tweet = word_tokenize(demoj_tweet)\n",
    "    \n",
    "    negative_words_stemmed.extend(build_vocabulary(tokenized_tweet, use_stemming=True))\n",
    "    negative_words_nostem.extend(build_vocabulary(tokenized_tweet, use_stemming=False))"
   ]
  },
  {
   "cell_type": "code",
   "execution_count": 13,
   "id": "f28e6e7f",
   "metadata": {},
   "outputs": [],
   "source": [
    "#using the stemmed words for now\n",
    "def create_combined_dict(pos_words, neg_words):\n",
    "    positive_words= set(pos_words)\n",
    "    remove_list =[]\n",
    "    negative_words= set(neg_words)\n",
    "\n",
    "    #Removal of Links in word sets\n",
    "    for word in positive_words:\n",
    "        if \"//t.co\" in word:\n",
    "            remove_list.append(word)\n",
    "\n",
    "    for word in remove_list:\n",
    "        positive_words.remove(word)\n",
    "    remove_list =[]\n",
    "    for word in negative_words:\n",
    "        if \"//t.co\" in word:\n",
    "            remove_list.append(word)\n",
    "\n",
    "    for word in remove_list:\n",
    "        negative_words.remove(word)\n",
    "\n",
    "    #create the dictionary\n",
    "    positive_words_dict = {word: 1 for word in positive_words}\n",
    "    negative_words_dict = {word: 0 for word in negative_words}\n",
    "\n",
    "    #combine both dictionaries\n",
    "    combined_dict = {**positive_words_dict, **negative_words_dict}\n",
    "    return combined_dict\n",
    "\n",
    "combined_dict_stemmed = create_combined_dict(positive_words_stemmed, negative_words_stemmed)\n",
    "combined_dict_nostem = create_combined_dict(positive_words_nostem, negative_words_nostem)\n",
    "# print(combined_dict)\n",
    "#print(positive_words_nostem)"
   ]
  },
  {
   "cell_type": "code",
   "execution_count": 14,
   "id": "16204831-47e1-4743-87ee-7cef2c225b1d",
   "metadata": {
    "tags": []
   },
   "outputs": [],
   "source": [
    "#Count Vectorizer\n",
    "#Supply data set of just tweets, pass in dataframe\n",
    "def CountVectorizer(data, use_stemming=False):\n",
    "\n",
    "    #Incase of stem usage\n",
    "    stemmer = PorterStemmer()\n",
    "    # Create a dictionary to store counts\n",
    "    counts = {1: defaultdict(int), 0: defaultdict(int)}\n",
    "\n",
    "    # Process the text\n",
    "    for index, row in data.iterrows():\n",
    "        lower_tweet = lowercase_caps(row['text'])\n",
    "        demoj_tweet = demojize_text(lower_tweet)\n",
    "        tokenized_tweet = word_tokenize(demoj_tweet)\n",
    "        if use_stemming:\n",
    "            tokenized_tweet = stem_tokens(tokenized_tweet, stemmer)\n",
    "    \n",
    "        # Update counts for the respective label\n",
    "        for word in tokenized_tweet:\n",
    "            #Ignores links\n",
    "            if \"//t.co\" not in word:\n",
    "                counts[row['label']][word] += 1\n",
    "    return counts\n",
    "\n",
    "MultiCountsStem = CountVectorizer(df, use_stemming=True)\n",
    "MultiCountsNoStem = CountVectorizer(df, use_stemming=False)\n",
    "# Display the counts\n",
    "#print(\"Positive counts:\", dict(Multicountsstem[1]))\n",
    "#print(\"Positive counts:\", dict(Multicountsnostem[1]))"
   ]
  },
  {
   "cell_type": "markdown",
   "id": "017cf61e-3d51-4da0-a4d9-d6723094304d",
   "metadata": {},
   "source": [
    "### Create Binary Vectorizor"
   ]
  },
  {
   "cell_type": "code",
   "execution_count": 15,
   "id": "450f3951-f86e-4195-a7a8-62c3d16b9895",
   "metadata": {},
   "outputs": [],
   "source": [
    "def BinaryVectorizer(data, labels, use_stemming=False):\n",
    "    #Incase of stem usage\n",
    "    stemmer = PorterStemmer()\n",
    "    # initialize dictionaries (pos and neg tweets)\n",
    "    counts = {\n",
    "        1: defaultdict(int),\n",
    "        0: defaultdict(int) \n",
    "    }\n",
    "    \n",
    "        # clean and tokenize each tweet\n",
    "    for text, label in zip(data, labels):\n",
    "\n",
    "        text = lowercase_caps(text)\n",
    "        text = demojize_text(text)\n",
    "        tokens = word_tokenize(text)\n",
    "        if use_stemming:\n",
    "            tokens = stem_tokens(tokens, stemmer)\n",
    "\n",
    "        # use a set to track unique words\n",
    "        unique_words = set(tokens)\n",
    "        for word in unique_words:\n",
    "            #Ignores links\n",
    "            if \"//t.co\" not in word:\n",
    "                counts[label][word] += 1\n",
    "\n",
    "    return counts\n",
    "\n",
    "BinaryCountsStem = BinaryVectorizer(train_data, train_labels, use_stemming=True)\n",
    "BinaryCountsNoStem = BinaryVectorizer(train_data, train_labels, use_stemming=False)\n",
    "#print(BinaryCountsStem)"
   ]
  },
  {
   "cell_type": "code",
   "execution_count": 16,
   "id": "9d66c843",
   "metadata": {},
   "outputs": [
    {
     "name": "stdout",
     "output_type": "stream",
     "text": [
      "Number of Positive Tweets: 1181\n",
      "Number of Negative Tweets: 3000\n",
      "Total Number of Tweets: 4181\n"
     ]
    }
   ],
   "source": [
    "#used to calculate the priors\n",
    "num_positive_tweets= len(df[df['label'] == 1])\n",
    "num_negative_tweets= len(df[df['label'] == 0])\n",
    "total_train= len(train_data)\n",
    "\n",
    "print(f\"Number of Positive Tweets: {num_positive_tweets}\")\n",
    "print(f\"Number of Negative Tweets: {num_negative_tweets}\")\n",
    "print(f\"Total Number of Tweets: {total_train}\")"
   ]
  },
  {
   "cell_type": "code",
   "execution_count": 17,
   "id": "1e1b22be",
   "metadata": {},
   "outputs": [],
   "source": [
    "def get_likelihoods(vector, num_negative_words, num_positive_words, total_vocab):\n",
    "    #iteerate over each row in the dataframe\n",
    "    likelihoods = {\n",
    "    0: defaultdict(int),  # Likelihoods for word to show up in negative tweets\n",
    "    1: defaultdict(int)   # Likelihoods for word to show up in positive tweets\n",
    "}\n",
    "    #get probabilities for words in corpus being in a negative tweet\n",
    "    for word in dict(vector[0]):\n",
    "        likelihoods[0][word] = vector[0][word]/(num_negative_words + total_vocab)\n",
    "    for word in dict(vector[1]):\n",
    "        likelihoods[1][word] = vector[1][word]/(num_positive_words + total_vocab)\n",
    "    return likelihoods"
   ]
  },
  {
   "cell_type": "code",
   "execution_count": 18,
   "id": "344dbbb8",
   "metadata": {},
   "outputs": [],
   "source": [
    "#Creating Variables for Likelihood usage\n",
    "#ms = Count/Multi + Stem, mn = Count/Multi + No Stem\n",
    "#bs = Binary + Stem, bn = Binary + No Stem\n",
    "num_negative_words_ms= len(dict(MultiCountsStem[0]))\n",
    "num_positive_words_ms= len(dict(MultiCountsStem[1]))\n",
    "num_negative_words_mn= len(dict(MultiCountsNoStem[0]))\n",
    "num_positive_words_mn= len(dict(MultiCountsNoStem[1]))\n",
    "num_negative_words_bs= len(dict(BinaryCountsStem[0]))\n",
    "num_positive_words_bs= len(dict(BinaryCountsStem[1]))\n",
    "num_negative_words_bn= len(dict(BinaryCountsNoStem[0]))\n",
    "num_positive_words_bn= len(dict(BinaryCountsNoStem[1]))\n",
    "total_vocab_stemmed= len(combined_dict_stemmed)\n",
    "total_vocab_nostem= len(combined_dict_nostem)\n",
    "\n",
    "likelihoodMS = get_likelihoods(MultiCountsStem, num_negative_words_ms, num_positive_words_ms, total_vocab_stemmed)\n",
    "likelihoodMN = get_likelihoods(MultiCountsNoStem, num_negative_words_mn, num_positive_words_mn, total_vocab_nostem)\n",
    "likelihoodBS = get_likelihoods(BinaryCountsStem, num_negative_words_bs, num_positive_words_bs, total_vocab_stemmed)\n",
    "likelihoodBN = get_likelihoods(BinaryCountsNoStem, num_negative_words_bn, num_positive_words_bn, total_vocab_nostem)"
   ]
  },
  {
   "cell_type": "code",
   "execution_count": 31,
   "id": "8cc8a780",
   "metadata": {},
   "outputs": [
    {
     "name": "stdout",
     "output_type": "stream",
     "text": [
      "Likelihoods for positive class: {'@': 0.15187867813490266, 'southwestair': 0.03168854685377999, 'i': 0.043232231779085556, 'would': 0.0033952014486192846, 'appreci': 0.005319148936170213, 'that': 0.010638297872340425, '.': 0.11238116794929832, 'thank': 0.0631507469443187, 'you': 0.05160706201901313, 'usairway': 0.014599366229062924, 'veri': 0.003961068356722499, 'much': 0.007582616568583069, 'jetblu': 0.03361249434133092, \"'m\": 0.0029425079221367134, 'all': 0.007016749660479855, 'set': 0.0004526935264825713, 'about': 0.0028293345405160705, 'to': 0.05477591670439113, 'fli': 0.0069035762788592124, 'not': 0.005319148936170213, 'bad': 0.001244907197827071, 'for': 0.0377999094612947, 'a': 0.028519692168401993, 'first': 0.002716161158895428, 'date': 0.000679040289723857, 'with': 0.010638297872340425, 'giant': 0.00022634676324128565, 'metal': 0.00011317338162064282, 'bird': 0.0003395201448619285, 'machin': 0.00011317338162064282, 'she': 0.0022634676324128564, 'even': 0.002037120869171571, 'brought': 0.00022634676324128565, 'snack': 0.000679040289723857, 'got': 0.00599818922589407, 'flight': 0.02693526482571299, 'at': 0.010072430964237211, '11:55am': 0.00011317338162064282, 'on': 0.021163422363060208, 'thursday': 0.00011317338162064282, 'but': 0.005432322317790856, 'look': 0.004074241738343142, 'someth': 0.0009053870529651426, 'tomorrow': 0.0018107741059302852, 'anyth': 0.0010185604345857855, 'avail': 0.0003395201448619285, '?': 0.006790402897238569, 'americanair': 0.02240832956088728, \"'re\": 0.0022634676324128564, 'my': 0.020371208691715707, 'earli': 0.0007922136713444998, 'frontrunn': 0.00011317338162064282, 'best': 0.004640108646446356, 'airlin': 0.00599818922589407, '!': 0.11407876867360797, '#': 0.040176550475328206, 'oscars2016': 0.00011317338162064282, 'redcarpet': 0.00022634676324128565, 'southwest': 0.0022634676324128564, 'companion': 0.0005658669081032141, 'pass': 0.0010185604345857855, 'be': 0.009280217292892712, 'great': 0.014259846084200997, 'major': 0.0003395201448619285, 'issu': 0.002037120869171571, 'get': 0.00803531009506564, 'out': 0.0055454956994114984, 'of': 0.014373019465821639, 'boston': 0.000679040289723857, 'your': 0.013693979176097782, 'crew': 0.0047532820280669985, 'ha': 0.002716161158895428, 'been': 0.002716161158895428, 'except': 0.0004526935264825713, 'let': 0.0018107741059302852, \"'s\": 0.010864644635581712, 'see': 0.0030556813037573563, 'how': 0.001923947487550928, 'thing': 0.0014712539610683567, 'roll': 0.00011317338162064282, 'in': 0.01765504753282028, 'philli': 0.0004526935264825713, 'prompt': 0.0010185604345857855, 'respons': 0.0037347215934812133, 'unit': 0.03044363965595292, 'such': 0.0004526935264825713, 'relax': 0.00022634676324128565, 'space': 0.0003395201448619285, 'drink': 0.000679040289723857, 'befor': 0.0011317338162064282, '(': 0.003961068356722499, 'global': 0.00022634676324128565, 'loung': 0.000679040289723857, ')': 0.01278859212313264, 'http': 0.014146672702580352, ':': 0.062245359891353554, 'ok.': 0.0003395201448619285, 'just': 0.010298777727478498, 'submit': 0.00011317338162064282, 'the': 0.055794477138976915, 'opportun': 0.00022634676324128565, 'give': 0.0009053870529651426, 'feedback': 0.00011317338162064282, 'wa': 0.01482571299230421, 'fantast': 0.001244907197827071, 'servic': 0.010185604345857854, \"'ve\": 0.001923947487550928, 'ever': 0.0021502942507922135, 'had': 0.003847894975101856, 'ok': 0.0021502942507922135, 'receiv': 0.0005658669081032141, 'an': 0.004640108646446356, 'email': 0.000679040289723857, 'registr': 0.00011317338162064282, 'from': 0.007243096423721141, 'team': 0.0028293345405160705, 'lot': 0.001244907197827071, 'thi': 0.010185604345857854, 'is': 0.01244907197827071, 'exactli': 0.0003395201448619285, 'whi': 0.0015844273426889996, 'ill': 0.0003395201448619285, 'aa': 0.0018107741059302852, 'dulles_airport': 0.00022634676324128565, 'dalla': 0.0011317338162064282, 'onli': 0.002489814395654142, 'trust': 0.0003395201448619285, 'member': 0.0004526935264825713, 'dca-': 0.00011317338162064282, 'tamara': 0.00011317338162064282, 'r.': 0.00011317338162064282, 'her': 0.002037120869171571, 'name': 0.0011317338162064282, 'awesom': 0.005885015844273427, 'should': 0.0015844273426889996, 'have': 0.008148483476686284, 'more': 0.0030556813037573563, 'employe': 0.001244907197827071, 'like': 0.003847894975101856, 'back': 0.0037347215934812133, 'eventu': 0.0003395201448619285, 'rollercoast': 0.00011317338162064282, 'onc': 0.0004526935264825713, 'airport': 0.002716161158895428, '&': 0.006337709370755998, 'amp': 0.0047532820280669985, ';': 0.00916704391127207, 'speak': 0.00022634676324128565, 'someon': 0.0004526935264825713, 'fix': 0.0011317338162064282, 'quick': 0.002037120869171571, 'so': 0.013014938886373924, 'passport': 0.00011317338162064282, 'recov': 0.00011317338162064282, 'free': 0.0022634676324128564, 'flyfi': 0.0007922136713444998, 'make': 0.005092802172928927, 'alreadi': 0.0010185604345857855, 'better': 0.002037120869171571, 'westpalmbeach': 0.00011317338162064282, 'flybett': 0.00011317338162064282, 'virginamerica': 0.008601177003168854, 'support': 0.0005658669081032141, 'guy': 0.006450882752376641, 'rock': 0.0023766410140334993, 'love_dragonss': 0.0003395201448619285, 'oh': 0.001358080579447714, 'god': 0.0003395201448619285, 'lauren': 0.00022634676324128565, 'inflight': 0.0003395201448619285, 'experi': 0.0023766410140334993, 'amaz': 0.00441376188320507, 'understood': 0.00011317338162064282, 'anyway': 0.00022634676324128565, 'thanx': 0.00022634676324128565, 'repli': 0.0022634676324128564, 'dm': 0.0016976007243096423, 'sent': 0.0016976007243096423, 'good': 0.007243096423721141, 'safe': 0.0016976007243096423, '...': 0.004526935264825713, '1/2': 0.00011317338162064282, 'way': 0.0035083748302399275, 'home': 0.0028293345405160705, 'wifi': 0.0007922136713444998, 'board': 0.0016976007243096423, 'happen': 0.0004526935264825713, 'sinc': 0.000679040289723857, 'slice': 0.00011317338162064282, 'bread': 0.00011317338162064282, 'will': 0.006564056133997284, 'call': 0.001923947487550928, 'tpa': 0.00022634676324128565, '-': 0.00599818922589407, 'ord': 0.0007922136713444998, 'aa1679': 0.00011317338162064282, 'anoth': 0.001923947487550928, 'success': 0.0004526935264825713, 'journey': 0.00022634676324128565, 'hospit': 0.00022634676324128565, 'big': 0.001358080579447714, 'ms.': 0.00011317338162064282, 'winston': 0.00011317338162064282, 'assist': 0.00022634676324128565, 'me': 0.013807152557718425, 'over': 0.0014712539610683567, 'phone': 0.0016976007243096423, 'baggag': 0.0009053870529651426, 'claim': 0.0005658669081032141, 'today': 0.004526935264825713, 'realli': 0.002602987777274785, 'went': 0.0005658669081032141, 'extra': 0.0004526935264825713, 'mile': 0.0005658669081032141, 'hmmm': 0.00011317338162064282, 'seem': 0.0007922136713444998, 'could': 0.0014712539610683567, 'chang': 0.0015844273426889996, 'flyerfriendli': 0.00022634676324128565, 'job': 0.001923947487550928, 'cle': 0.00011317338162064282, '..': 0.001923947487550928, 'schedul': 0.0004526935264825713, '4': 0.001923947487550928, '5': 0.0005658669081032141, 'inch': 0.00011317338162064282, 'snow': 0.0010185604345857855, 'leopolds_': 0.00011317338162064282, 'no': 0.003282028066998642, 'friend': 0.000679040289723857, 'pictur': 0.0003395201448619285, 'phillip': 0.00011317338162064282, 'heller': 0.00011317338162064282, 'jfk': 0.001244907197827071, 'ifc': 0.00011317338162064282, 'did': 0.004074241738343142, 'and': 0.025350837483023993, 'he': 0.001923947487550928, 'said': 0.0009053870529651426, 'it': 0.01878678134902671, 'delici': 0.00011317338162064282, 'karen': 0.00022634676324128565, 'salisburi': 0.00011317338162064282, 'iah': 0.0003395201448619285, 'custom': 0.007016749660479855, 'found': 0.000679040289723857, 'daughter': 0.0005658669081032141, 'bag': 0.002716161158895428, 'lost': 0.000679040289723857, 'ua1516': 0.00011317338162064282, 'made': 0.003168854685377999, 'day': 0.003847894975101856, '236': 0.00011317338162064282, 'cabin': 0.0004526935264825713, 'a+': 0.0003395201448619285, 'land': 0.001358080579447714, 'thankyou': 0.000679040289723857, 'worri': 0.001358080579447714, 'rather': 0.0004526935264825713, 'ground': 0.0011317338162064282, 'than': 0.001923947487550928, 'take': 0.0021502942507922135, 'ani': 0.001923947487550928, 'chanc': 0.00022634676324128565, 'ye': 0.0028293345405160705, 'am': 0.002602987777274785, 'if': 0.002716161158895428, 'bna': 0.00022634676324128565, 'reopen': 0.00011317338162064282, 'smiling_fac': 0.0003395201448619285, 'alway': 0.002037120869171571, 'go': 0.0037347215934812133, 'abov': 0.0007922136713444998, 'beyond': 0.0010185604345857855, 'favoriteairlin': 0.00011317338162064282, 'luvforsw': 0.00011317338162064282, 'kevin': 0.00011317338162064282, 'f38ish': 0.00011317338162064282, 'phl': 0.0009053870529651426, 'some': 0.0015844273426889996, 'recoveri': 0.0003395201448619285, 'tonight': 0.0029425079221367134, 'talk': 0.000679040289723857, 'reserv': 0.0004526935264825713, 'must': 0.0004526935264825713, 'congratul': 0.00022634676324128565, 'them': 0.0014712539610683567, 'friendli': 0.0010185604345857855, 'usair': 0.00011317338162064282, 'we': 0.008488003621548211, 'listen': 0.0003395201448619285, 'center': 0.00022634676324128565, 'open': 0.0010185604345857855, 'seat': 0.003282028066998642, 'their': 0.0010185604345857855, 'plane': 0.002716161158895428, 'ragandisney': 0.00011317338162064282, 'thx': 0.002602987777274785, 'damn': 0.00022634676324128565, 'fast': 0.0005658669081032141, 'sure': 0.0015844273426889996, 'as': 0.002716161158895428, 'hell': 0.00011317338162064282, 'beat': 0.00022634676324128565, '80': 0.00011317338162064282, 'cheez': 0.00011317338162064282, 'hold': 0.0007922136713444998, 'music': 0.00022634676324128565, 'do': 0.005885015844273427, \"n't\": 0.006337709370755998, 'think': 0.0010185604345857855, 'help': 0.009393390674513355, 'him': 0.0005658669081032141, 'base': 0.00022634676324128565, 'hi': 0.0010185604345857855, 'behavior': 0.00011317338162064282, 'voucher': 0.0004526935264825713, 'cot': 0.00011317338162064282, 'enough': 0.00022634676324128565, 'lol': 0.0007922136713444998, 'grinning_face_with_big_ey': 0.000679040289723857, 'want': 0.002037120869171571, 'effort': 0.000679040289723857, 'jami': 0.00011317338162064282, 'mckinni': 0.00011317338162064282, 'buf': 0.00011317338162064282, 'true': 0.00022634676324128565, 'pro': 0.00022634676324128565, 'dure': 0.0010185604345857855, 'delay': 0.0022634676324128564, 'own': 0.0003395201448619285, 'rais': 0.0004526935264825713, 'eatgregeat': 0.00011317338162064282, 'wow~thx': 0.00011317338162064282, 'us': 0.005771842462652784, 'greg': 0.00011317338162064282, 'heard': 0.00022634676324128565, 'sobewff': 0.00011317338162064282, 'same': 0.0005658669081032141, 'ps': 0.00011317338162064282, 'info': 0.0007922136713444998, 'teamnkh': 0.00011317338162064282, 'wow': 0.0007922136713444998, 'blew': 0.00011317338162064282, 'mind': 0.00022634676324128565, 'tv': 0.00011317338162064282, 'stream': 0.00022634676324128565, 'mean': 0.0003395201448619285, 'spend': 0.00022634676324128565, 'watch': 0.0004526935264825713, '1999': 0.00011317338162064282, '2011': 0.00011317338162064282, 'women': 0.00011317338162064282, 'world': 0.0007922136713444998, 'cup': 0.0003395201448619285, 'final': 0.001923947487550928, 'throwback': 0.00011317338162064282, 'bestflightev': 0.00011317338162064282, 'now': 0.005432322317790856, 'forward': 0.0016976007243096423, 'futur': 0.0004526935264825713, 'upgrad': 0.0014712539610683567, 'attent': 0.0003395201448619285, '3': 0.0014712539610683567, 'year': 0.0016976007243096423, 'past': 0.0004526935264825713, 'roxydigit': 0.00011317338162064282, 'haha': 0.0010185604345857855, 'didn': 0.00011317338162064282, '’': 0.0014712539610683567, 't': 0.00022634676324128565, 'disappoint': 0.0003395201448619285, 'well': 0.002716161158895428, 'done': 0.0010185604345857855, 'jvmchat': 0.00011317338162064282, 'counter': 0.00022634676324128565, 'agent': 0.0029425079221367134, 'rdu': 0.0003395201448619285, 'deserv': 0.0007922136713444998, 'medal': 0.00011317338162064282, 'doe': 0.000679040289723857, 'agre': 0.00011317338162064282, 'there': 0.002602987777274785, 'frequent': 0.00011317338162064282, 'tweeter': 0.00011317338162064282, 'discount': 0.00011317338162064282, 'grinning_fac': 0.0003395201448619285, 'tinman2ironman': 0.00011317338162064282, 'meggersrock': 0.00011317338162064282, 'terrif': 0.00011317338162064282, 'mani': 0.000679040289723857, 'ua': 0.00022634676324128565, 'up': 0.005885015844273427, 'vancouv': 0.00011317338162064282, 'aateam': 0.00011317338162064282, 'work': 0.004640108646446356, 'rigor': 0.00011317338162064282, 'weather': 0.001923947487550928, 'condit': 0.00022634676324128565, 'class': 0.0018107741059302852, '769': 0.00011317338162064282, 'phl-mco': 0.00011317338162064282, 'attend': 0.002489814395654142, 'f.': 0.00011317338162064282, 'catch': 0.0005658669081032141, 'top': 0.0009053870529651426, 'notch': 0.0003395201448619285, 'jh': 0.00011317338162064282, 'through': 0.0016976007243096423, 'second': 0.0004526935264825713, 'time': 0.00599818922589407, 'arrang': 0.00011317338162064282, 'move': 0.0005658669081032141, 'earlier': 0.0007922136713444998, 'gate': 0.003961068356722499, 'assign': 0.0003395201448619285, 'super': 0.0011317338162064282, 'nice': 0.001923947487550928, 'c4': 0.00011317338162064282, 'sooo': 0.00011317338162064282, 'couldnt': 0.00011317338162064282, 'school': 0.00011317338162064282, 'trip': 0.0018107741059302852, 'can': 0.0035083748302399275, 'smirking_fac': 0.0003395201448619285, 'dad': 0.00022634676324128565, 'mom': 0.0003395201448619285, 'birthday': 0.0004526935264825713, 'start': 0.0011317338162064282, 'friendlyfriday': 0.00011317338162064282, 'paw': 0.00011317338162064282, 'resolv': 0.000679040289723857, 'hour': 0.0011317338162064282, 'somehow': 0.00022634676324128565, 'system': 0.0003395201448619285, 'reset': 0.00011317338162064282, 'itself': 0.00011317338162064282, 'takeoff': 0.00011317338162064282, 'response/servic': 0.00011317338162064282, 'refundprocedurenottoopain': 0.00011317338162064282, 'know': 0.002716161158895428, 'winter': 0.0003395201448619285, 'fault': 0.0005658669081032141, 'are': 0.007016749660479855, 'airway': 0.0004526935264825713, 'follow': 0.0018107741059302852, 'pleas': 0.002489814395654142, 'folded_hand': 0.0004526935264825713, ':folded_hand': 0.0041874151199637845, 'again': 0.0022634676324128564, 'rep': 0.0004526935264825713, 'kick': 0.00022634676324128565, 'butt': 0.00011317338162064282, 'naelah': 0.00011317338162064282, 'repres': 0.00022634676324128565, 'beauti': 0.001358080579447714, 'se': 0.00011317338162064282, 'conf': 0.00011317338162064282, 'love': 0.008940697148030783, 'aviat': 0.00011317338162064282, '18th': 0.00011317338162064282, 'swa': 0.0007922136713444998, 'tri': 0.002037120869171571, 'tweet': 0.001358080579447714, 'photo': 0.00022634676324128565, 'view': 0.0009053870529651426, 'sunday': 0.000679040289723857, 'far': 0.0010185604345857855, 'step': 0.0003395201448619285, 'down': 0.0014712539610683567, 'denver': 0.0007922136713444998, 'next': 0.002037120869171571, 'stop': 0.0005658669081032141, 'portland': 0.00011317338162064282, 'prefer': 0.00011317338162064282, 'similar': 0.00022634676324128565, 'full': 0.0003395201448619285, 'e190': 0.00011317338162064282, 'tail': 0.00011317338162064282, 'shot': 0.00022634676324128565, 'inde': 0.00022634676324128565, '604.': 0.00011317338162064282, 'comp': 0.00022634676324128565, 'multipl': 0.00011317338162064282, 'other': 0.0015844273426889996, 'which': 0.0004526935264825713, 'enjoy': 0.0011317338162064282, 'heathrow': 0.00011317338162064282, 'almost': 0.0004526935264825713, 'miss': 0.0014712539610683567, 'airnzusa': 0.00011317338162064282, 'safeti': 0.0005658669081032141, 'greatest': 0.0003395201448619285, 'newark': 0.0010185604345857855, 'david': 0.00011317338162064282, 'dean': 0.00011317338162064282, 'norma': 0.00011317338162064282, 'sedholm': 0.00011317338162064282, 'luz': 0.00011317338162064282, 'calderon': 0.00011317338162064282, 'feel': 0.0004526935264825713, 'king': 0.00011317338162064282, 'americanairlin': 0.00022634676324128565, 'what': 0.0029425079221367134, 'blackhistorymonth': 0.00011317338162064282, 'commerci': 0.0004526935264825713, 'add': 0.0004526935264825713, 'reason': 0.0007922136713444998, 'southwestairlin': 0.00022634676324128565, 'supervisor': 0.00011317338162064282, 'jeanin': 0.00022634676324128565, 'cowork': 0.00011317338162064282, 'excel': 0.0016976007243096423, 'they': 0.004640108646446356, 'provid': 0.0007922136713444998, 'clt': 0.0003395201448619285, 'kudo': 0.0014712539610683567, 'run': 0.0004526935264825713, 'connect': 0.0015844273426889996, 'still': 0.002037120869171571, 'customerservic': 0.000679040289723857, '436.': 0.00011317338162064282, 'minor': 0.0003395201448619285, 'deal': 0.001244907197827071, 'concern': 0.00022634676324128565, 'though': 0.001244907197827071, 'ty': 0.0004526935264825713, 'lane': 0.00011317338162064282, 'logan': 0.00022634676324128565, 'ewr': 0.0005658669081032141, 'barbara': 0.00011317338162064282, 'fabul': 0.00022634676324128565, 'exampl': 0.0003395201448619285, 'cust': 0.00022634676324128565, 'serv': 0.00011317338162064282, 'pleasur': 0.0003395201448619285, 'smiling_face_with_smiling_ey': 0.0010185604345857855, 'rhonda': 0.00022634676324128565, 'c.': 0.00011317338162064282, 'atlanta': 0.0005658669081032141, 'redeem': 0.00011317338162064282, 'straighten': 0.00011317338162064282, 'gave': 0.0005658669081032141, 'credit': 0.0003395201448619285, 'late': 0.0007922136713444998, 'yesterday': 0.000679040289723857, 'moment': 0.00011317338162064282, 'unexpect': 0.00022634676324128565, 'gestur': 0.00011317338162064282, 'keep': 0.002716161158895428, 'destin': 0.0003395201448619285, 'turn': 0.0003395201448619285, 'jan': 0.00022634676324128565, 't-minu': 0.00011317338162064282, '32': 0.00011317338162064282, 'minut': 0.0004526935264825713, 'until': 0.00011317338162064282, 'elev': 0.0003395201448619285, 'silver': 0.00011317338162064282, 'window': 0.00011317338162064282, 'freeneversuck': 0.00011317338162064282, ':thumbs_up': 0.0014712539610683567, 'card': 0.0004526935264825713, 'smile': 0.0003395201448619285, 'joy': 0.00011317338162064282, 'video': 0.0004526935264825713, 'gosh': 0.0003395201448619285, 'ferrissalameh': 0.00011317338162064282, 'speedi': 0.0004526935264825713, 'twitter': 0.0011317338162064282, 'ride': 0.000679040289723857, 'new': 0.0023766410140334993, 'hope': 0.0035083748302399275, 'continu': 0.00022634676324128565, 'impress': 0.0007922136713444998, 'houston': 0.0003395201448619285, 'leav': 0.00022634676324128565, 'soon': 0.0010185604345857855, 'save': 0.000679040289723857, 'visit': 0.00011317338162064282, 'famili': 0.001244907197827071, '2015': 0.00022634676324128565, 'impact': 0.00011317338162064282, 'mother': 0.00022634676324128565, 'plan': 0.0003395201448619285, 'rule': 0.00022634676324128565, 'put': 0.0004526935264825713, 'coat': 0.00022634676324128565, 'check': 0.001923947487550928, 'right': 0.0010185604345857855, 'meagan': 0.00011317338162064282, 'fouti': 0.00011317338162064282, 'brancato': 0.00011317338162064282, 'fl': 0.00022634676324128565, '2771': 0.00011317338162064282, 'dfw': 0.0011317338162064282, 'preboard': 0.0003395201448619285, 'w/kid': 0.00011317338162064282, 'b4': 0.00011317338162064282, 'group': 0.00022634676324128565, 'engag': 0.00011317338162064282, 'person': 0.000679040289723857, 'handl': 0.0009053870529651426, 'clarifi': 0.0003395201448619285, 'question': 0.00022634676324128565, 'fee': 0.0005658669081032141, 'took': 0.000679040289723857, 'interest': 0.0003395201448619285, '“': 0.0022634676324128564, 'our': 0.00520597555454957, 'fleet': 0.001244907197827071, 'fleek': 0.0011317338162064282, '”': 0.0023766410140334993, '+': 0.0004526935264825713, 'easili': 0.00011317338162064282, 'ella-ma': 0.00011317338162064282, 'la': 0.001358080579447714, 'abq': 0.00022634676324128565, 'after': 0.0016976007243096423, 'cancel': 0.002489814395654142, 'flightl': 0.0009053870529651426, 'awe': 0.00011317338162064282, 'ca': 0.0018107741059302852, 'wait': 0.0023766410140334993, 'travel': 0.002037120869171571, 'hear': 0.0010185604345857855, 'updat': 0.001244907197827071, 'walls29': 0.00011317338162064282, 'may': 0.0005658669081032141, 'busi': 0.0010185604345857855, 'meet': 0.00011317338162064282, 'flew': 0.001244907197827071, 'san': 0.000679040289723857, 'francisco': 0.00022634676324128565, 'fort': 0.00022634676324128565, 'lauderdal': 0.00022634676324128565, 'last': 0.002716161158895428, 'okay': 0.0004526935264825713, \"'ll\": 0.002602987777274785, 'send': 0.0007922136713444998, 'when': 0.0023766410140334993, 'hug': 0.00022634676324128565, 'ya': 0.00022634676324128565, 'shortli': 0.00022634676324128565, 'staff': 0.002716161158895428, 'effici': 0.00022634676324128565, 'solut': 0.00011317338162064282, 'freak': 0.00011317338162064282, 'littl': 0.0010185604345857855, 'limbo': 0.00011317338162064282, 'air': 0.001244907197827071, 'slow': 0.00022634676324128565, 'inbound': 0.00022634676324128565, 'need': 0.0015844273426889996, '4438': 0.00011317338162064282, 'eyw': 0.00011317338162064282, 'holz': 0.00011317338162064282, 'ahead': 0.00022634676324128565, 'cheer': 0.0004526935264825713, 'grandma': 0.00011317338162064282, 'ella': 0.00011317338162064282, '80th': 0.00011317338162064282, 'lt': 0.0010185604345857855, 'bday': 0.00011317338162064282, 'greet': 0.00011317338162064282, 'stewardess': 0.0003395201448619285, 'eastern': 0.00011317338162064282, 'absolut': 0.0005658669081032141, 'explan': 0.00022634676324128565, 'odd': 0.00011317338162064282, 'incent': 0.00011317338162064282, 'structur': 0.00011317338162064282, 'tho': 0.0004526935264825713, 'becaus': 0.0007922136713444998, 'dramat': 0.00011317338162064282, 'diminish': 0.00011317338162064282, 'valu': 0.00011317338162064282, 'cert': 0.00011317338162064282, 'say': 0.0011317338162064282, 'sincer': 0.00011317338162064282, 'bestairlin': 0.0003395201448619285, 'exict': 0.00011317338162064282, \"y'all\": 0.0007922136713444998, 'yayayay': 0.00011317338162064282, 'hahaha': 0.00011317338162064282, 'face_with_tears_of_joy': 0.0003395201448619285, 'growing_heart': 0.00011317338162064282, 'conect': 0.00011317338162064282, 'come': 0.000679040289723857, 'brandloveaffair': 0.0003395201448619285, 'w/': 0.0004526935264825713, 'ur': 0.00022634676324128565, 'soulandinspir': 0.00011317338162064282, 'umosaicmecrazi': 0.00011317338162064282, 'yall': 0.0004526935264825713, '``': 0.002037120869171571, 'wish': 0.001244907197827071, 'rememb': 0.0004526935264825713, 'show': 0.001358080579447714, 'sens': 0.00011317338162064282, 'humor': 0.00011317338162064282, 'these': 0.0007922136713444998, 'tongue-in-cheek': 0.00011317338162064282, 'etiquett': 0.00011317338162064282, 'librari': 0.00011317338162064282, 'yeah': 0.00022634676324128565, 'never': 0.000679040289723857, 'one': 0.0030556813037573563, 'expens': 0.00022634676324128565, ':face_with_tears_of_joy': 0.00022634676324128565, 'fun': 0.0004526935264825713, 'destinationdragon': 0.000679040289723857, 'articl': 0.00022634676324128565, 'chat': 0.00022634676324128565, 'came': 0.0004526935264825713, 'contentmarket': 0.00011317338162064282, 'terri': 0.00022634676324128565, 'hero': 0.00011317338162064282, 'husband': 0.00011317338162064282, 'thru': 0.0004526935264825713, 'secur': 0.0003395201448619285, 'retriev': 0.00011317338162064282, 'cellphon': 0.00011317338162064282, 'left': 0.0005658669081032141, 'austin': 0.0009053870529651426, '85832': 0.00011317338162064282, 'u': 0.0018107741059302852, 'pretti': 0.000679040289723857, 'entertain': 0.0005658669081032141, 'touch': 0.00022634676324128565, 'usabl': 0.00011317338162064282, 'smooth': 0.0004526935264825713, 'select': 0.00022634676324128565, 'use': 0.001358080579447714, 'instead': 0.00022634676324128565, 'comput': 0.00011317338162064282, 'ellahenderson': 0.00011317338162064282, 'omg': 0.000679040289723857, 'lft5': 0.00011317338162064282, 'ticket': 0.0018107741059302852, 'especi': 0.0003395201448619285, 'kristi': 0.00011317338162064282, 'sorri': 0.0003395201448619285, 'correct': 0.0003395201448619285, 'spell': 0.00011317338162064282, 'lift': 0.00022634676324128565, 'perfect': 0.0005658669081032141, 'were': 0.0028293345405160705, 'breath': 0.00011317338162064282, 'heavili': 0.00011317338162064282, 'sign': 0.0004526935264825713, 'don': 0.00011317338162064282, 'passbook': 0.0007922136713444998, '=/': 0.00011317338162064282, 'll': 0.0003395201448619285, 'riedel': 0.00011317338162064282, 'star': 0.0003395201448619285, 'miracl': 0.00022634676324128565, 'worker': 0.0004526935264825713, 'morn': 0.0014712539610683567, 're-accommod': 0.00011317338162064282, 'number': 0.0007922136713444998, 'lisa': 0.00011317338162064282, 'liza': 0.00011317338162064282, 'raleigh': 0.00011317338162064282, 'sleep': 0.00022634676324128565, 'cali': 0.00022634676324128565, 'night': 0.0014712539610683567, 'extraordinair': 0.00011317338162064282, 'seau': 0.00011317338162064282, 'fong': 0.00011317338162064282, 're-book': 0.00011317338162064282, 'bois': 0.00011317338162064282, 'nyc': 0.0005658669081032141, 'sometim': 0.00011317338162064282, 'gold': 0.00022634676324128565, 'into': 0.001244907197827071, 'pvd': 0.0003395201448619285, 'smallest': 0.00011317338162064282, 'smoothest': 0.00011317338162064282, 'ah': 0.00011317338162064282, 'misread': 0.00011317338162064282, 'end': 0.0005658669081032141, '2014': 0.00011317338162064282, '2015.': 0.00011317338162064282, 'link/email': 0.00011317338162064282, 'formal': 0.00011317338162064282, 'compliment': 0.00011317338162064282, 'iren': 0.00011317338162064282, 'slc': 0.00022634676324128565, 'paxex': 0.00011317338162064282, 'paytontaylor129': 0.00011317338162064282, 'payton': 0.00011317338162064282, 'taylor': 0.00011317338162064282, 'part': 0.0003395201448619285, 'long': 0.001358080579447714, 'ua5168': 0.00011317338162064282, 'most': 0.000679040289723857, '/ua795': 0.00011317338162064282, 'givethoseladiesrais': 0.00011317338162064282, 'shout': 0.00022634676324128565, 'pilot': 0.0011317338162064282, 'fc': 0.0003395201448619285, 'eliz': 0.00022634676324128565, '673.': 0.00011317338162064282, 'strong': 0.00022634676324128565, 'crosswind': 0.00011317338162064282, 'throughout': 0.00022634676324128565, 'app': 0.0009053870529651426, 'worth': 0.00022634676324128565, 'sm': 0.00011317338162064282, 'treat': 0.0003395201448619285, 'antonio': 0.00011317338162064282, 'alert': 0.00011317338162064282, 'boo': 0.00011317338162064282, 'ice': 0.00022634676324128565, 'johnwayneair': 0.00011317338162064282, 'both': 0.0009053870529651426, 'although': 0.00022634676324128565, 'total': 0.0005658669081032141, 'answer': 0.00022634676324128565, 'poteettj': 0.00011317338162064282, 'bestairlineev': 0.00022634676324128565, 'too': 0.0023766410140334993, 'abl': 0.001923947487550928, 'situat': 0.0004526935264825713, 'fan': 0.0004526935264825713, 'natur': 0.0003395201448619285, 'toss': 0.00011317338162064282, 'pr': 0.00011317338162064282, 'everi': 0.000679040289723857, 'colleg': 0.00022634676324128565, 'student': 0.00011317338162064282, 'wit': 0.00011317338162064282, 'eye': 0.00022634676324128565, ':ey': 0.00011317338162064282, 'dfwairport': 0.0005658669081032141, 'constantli': 0.00011317338162064282, 'wonder': 0.0011317338162064282, 'southwestluv': 0.00011317338162064282, 'ssal': 0.00011317338162064282, 'wo': 0.00022634676324128565, 'book': 0.0028293345405160705, 'flown': 0.0003395201448619285, 'stuck': 0.00011317338162064282, 'til': 0.00022634676324128565, 'wed': 0.00022634676324128565, 'also': 0.0011317338162064282, 'explain': 0.00022634676324128565, 'accur': 0.00022634676324128565, 'authorit': 0.00011317338162064282, 'comm': 0.00011317338162064282, 'vital': 0.00011317338162064282, 'further': 0.00011317338162064282, 'inform': 0.0005658669081032141, 'process': 0.00022634676324128565, '732': 0.00011317338162064282, 'finger': 0.0004526935264825713, 'cross': 0.0004526935264825713, 'msi': 0.0004526935264825713, 'head': 0.0007922136713444998, 'atl': 0.0005658669081032141, 'alison': 0.00011317338162064282, 'bobbi': 0.00011317338162064282, 'b8': 0.00011317338162064282, 'front-end': 0.00011317338162064282, 'design': 0.0003395201448619285, 'cool': 0.001244907197827071, 'b/c': 0.00011317338162064282, 'back-end': 0.00011317338162064282, 'thumbs_up': 0.001244907197827071, ':ok_hand': 0.0003395201448619285, 'option': 0.0004526935264825713, 'complain': 0.0003395201448619285, 'written': 0.00011317338162064282, 'w/you': 0.00011317338162064282, 'termin': 0.0003395201448619285, 'vacat': 0.0007922136713444998, 'despit': 0.0004526935264825713, 'pandora': 0.00011317338162064282, 'backhom': 0.00011317338162064282, 'noplacelikehom': 0.00011317338162064282, 'clever': 0.00011317338162064282, 'releas': 0.00022634676324128565, 'jt': 0.00011317338162064282, 'complet': 0.00022634676324128565, 'form': 0.00022634676324128565, 'john': 0.00022634676324128565, 'hugh': 0.00011317338162064282, \"'\": 0.0005658669081032141, 'stick': 0.00022634676324128565, 'w': 0.0004526935264825713, 'off': 0.0018107741059302852, 'train': 0.00022634676324128565, 'automobil': 0.00011317338162064282, 'social': 0.0005658669081032141, 'media': 0.0005658669081032141, 'peopl': 0.0010185604345857855, 'everyon': 0.0009053870529651426, 'hard': 0.00022634676324128565, 'count': 0.00011317338162064282, '989': 0.00011317338162064282, 'dc': 0.0003395201448619285, 'suntoshi': 0.00011317338162064282, 'beantownmatti': 0.00022634676324128565, 'sound': 0.0004526935264825713, 'sea': 0.0003395201448619285, 'den': 0.0004526935264825713, 'south': 0.00011317338162064282, 'volleybal': 0.00011317338162064282, 'confirm': 0.0004526935264825713, 'crisi': 0.00022634676324128565, 'avert': 0.00022634676324128565, 'beer': 0.0003395201448619285, 'hubbi': 0.00011317338162064282, 'by': 0.0021502942507922135, 'skin': 0.00011317338162064282, 'teeth': 0.00011317338162064282, 'where': 0.0009053870529651426, 'appl': 0.00011317338162064282, 'crâpe': 0.00011317338162064282, 'live': 0.0004526935264825713, 'ua1207': 0.00011317338162064282, 'biscuit': 0.00011317338162064282, '2': 0.0021502942507922135, '—': 0.00022634676324128565, '403': 0.00011317338162064282, 'ind': 0.00011317338162064282, 'phx': 0.0005658669081032141, 'black': 0.00011317338162064282, 'histori': 0.00022634676324128565, 'month': 0.0011317338162064282, 'seen': 0.0004526935264825713, 'ago': 0.000679040289723857, 'cri': 0.0003395201448619285, 'camera': 0.00022634676324128565, 'list': 0.00011317338162064282, '1st': 0.000679040289723857, '40': 0.00022634676324128565, 'min': 0.0005658669081032141, 'raising_hand': 0.00011317338162064282, 'statusmatchpaidoff': 0.00011317338162064282, 'rest': 0.00011317338162064282, 'measur': 0.00011317338162064282, 'yourselv': 0.00011317338162064282, 'hot': 0.0004526935264825713, 'ladi': 0.000679040289723857, 'life': 0.0004526935264825713, 'loyal': 0.0003395201448619285, 'agt': 0.00022634676324128565, 'pascucci': 0.00011317338162064282, 'find': 0.0007922136713444998, 'origin': 0.00022634676324128565, '69': 0.00011317338162064282, 'bo': 0.000679040289723857, 'fll': 0.0004526935264825713, 'clarenc': 0.00022634676324128565, 'oveur': 0.00011317338162064282, 'roger': 0.00011317338162064282, 'murdock': 0.00011317338162064282, 'mellani': 0.00011317338162064282, 'b.': 0.00022634676324128565, 'whole': 0.00022634676324128565, 'columbia': 0.00011317338162064282, 'sc': 0.00022634676324128565, 'superstar': 0.00011317338162064282, 'incred': 0.0009053870529651426, 'msg': 0.00011317338162064282, 'tbt': 0.00011317338162064282, '390': 0.00011317338162064282, 'snuck': 0.00011317338162064282, 'wife': 0.0005658669081032141, 'warm': 0.0007922136713444998, 'cooki': 0.00011317338162064282, 'accid': 0.00011317338162064282, 'understand': 0.0007922136713444998, 'everyth': 0.0014712539610683567, 'sooooooo': 0.00011317338162064282, 'ridicul': 0.00011317338162064282, 'easi': 0.0009053870529651426, 'local': 0.00011317338162064282, 'strip': 0.00022634676324128565, 'brothaaaaaa': 0.00011317338162064282, 'ad': 0.0009053870529651426, 'problem': 0.0014712539610683567, 'who': 0.001923947487550928, 'notif': 0.00022634676324128565, 'in-flight': 0.0003395201448619285, 'wi-fi': 0.00022634676324128565, 'ua863': 0.00011317338162064282, 'flysfo': 0.00011317338162064282, 'sydneyairport': 0.00011317338162064282, 'cc': 0.00022634676324128565, 'dadbon': 0.00011317338162064282, 'boldflavor': 0.00011317338162064282, 're': 0.0003395201448619285, 'bring': 0.0009053870529651426, 'bourbon': 0.00011317338162064282, 'st.': 0.00022634676324128565, '35000': 0.00011317338162064282, 'ft.': 0.00022634676324128565, 'bold': 0.00011317338162064282, 'flavor': 0.00011317338162064282, 'fresh': 0.00011317338162064282, 'ingredi': 0.00011317338162064282, 'dine': 0.00022634676324128565, \"''\": 0.0018107741059302852, 'weekend': 0.0004526935264825713, 'flighting/delay': 0.00011317338162064282, 'flyswa': 0.00011317338162064282, 'denverairport': 0.00011317338162064282, 'cramp': 0.00011317338162064282, '1pm': 0.00011317338162064282, 'sunshin': 0.00022634676324128565, 'tailfinthursday': 0.00011317338162064282, 'mark': 0.00022634676324128565, 't.': 0.00011317338162064282, 'cant': 0.00011317338162064282, 'pari': 0.00011317338162064282, 'oui': 0.00022634676324128565, 'awesomee': 0.00011317338162064282, '3.30': 0.00011317338162064282, '7': 0.00022634676324128565, 'pm': 0.00011317338162064282, 'vail/eagl': 0.00011317338162064282, 'bet': 0.00011317338162064282, 'clear': 0.00022634676324128565, 'charlott': 0.0003395201448619285, 'monday': 0.0004526935264825713, 'ua3576': 0.00011317338162064282, 'b1': 0.00022634676324128565, 'tell': 0.00022634676324128565, 'ray': 0.00011317338162064282, '736': 0.00011317338162064282, '917': 0.00011317338162064282, 'thnx': 0.0003395201448619285, 'las-fll-sju': 0.00011317338162064282, 'letsgo': 0.00011317338162064282, 'btw': 0.0007922136713444998, 'samantha': 0.00011317338162064282, 'won': 0.00011317338162064282, 'applic': 0.00022634676324128565, 'donut': 0.00011317338162064282, 'proper': 0.00011317338162064282, 'channel': 0.00011317338162064282, 'chicago': 0.000679040289723857, '6a': 0.00011317338162064282, '1620.': 0.00011317338162064282, 'pdx': 0.00011317338162064282, 'frustrat': 0.000679040289723857, 'idea': 0.00011317338162064282, 'happycustom': 0.00022634676324128565, '25mn': 0.00011317338162064282, 'ohar': 0.00011317338162064282, 'possibl': 0.0003395201448619285, 'sna2ord': 0.00011317338162064282, '1644': 0.00011317338162064282, 'read': 0.00022634676324128565, 'program': 0.00022634676324128565, 'tea': 0.00011317338162064282, 'crewmemb': 0.00022634676324128565, 'luv': 0.000679040289723857, 'televis': 0.00011317338162064282, 'return': 0.0004526935264825713, 'feltthelov': 0.00011317338162064282, 'cours': 0.0003395201448619285, 'nashvil': 0.0005658669081032141, 'a1': 0.00011317338162064282, 'flt': 0.000679040289723857, 'b': 0.00022634676324128565, 'loudly_crying_fac': 0.00011317338162064282, ':loudly_crying_fac': 0.0003395201448619285, 'then': 0.0014712539610683567, 'american': 0.0003395201448619285, 'week': 0.001923947487550928, 'ciscojimfrench': 0.00011317338162064282, 'cobedien': 0.00011317338162064282, 'aww': 0.0003395201448619285, 'gma': 0.00022634676324128565, 'here': 0.0010185604345857855, 'a.a': 0.00022634676324128565, 'im': 0.000679040289723857, 'trv': 0.00022634676324128565, 'two': 0.0010185604345857855, 'uk': 0.00011317338162064282, 'skype…wel': 0.00011317338162064282, '$': 0.0007922136713444998, '.50': 0.00011317338162064282, 'recommend': 0.00022634676324128565, 'shannon': 0.0003395201448619285, 'g.': 0.00011317338162064282, 'lasairport': 0.00011317338162064282, 'c22': 0.00011317338162064282, 'plu': 0.0005658669081032141, 'tacki': 0.00011317338162064282, 'state': 0.00011317338162064282, 'pa': 0.00011317338162064282, 'figur': 0.0005658669081032141, 'funni': 0.00011317338162064282, 'sass': 0.00011317338162064282, 'shop': 0.00011317338162064282, 'somebodi': 0.00011317338162064282, 'duti': 0.00022634676324128565, 'ceo': 0.00011317338162064282, 'battl': 0.00011317338162064282, 'appeas': 0.00011317338162064282, 'passeng': 0.0004526935264825713, 'wall': 0.00011317338162064282, 'street': 0.00011317338162064282, 'lovejetblu': 0.00022634676324128565, '380': 0.00011317338162064282, 'elderli': 0.00011317338162064282, 'firstclass': 0.00011317338162064282, 'lax': 0.001358080579447714, 'sfo': 0.0010185604345857855, 'movi': 0.00011317338162064282, 'lineup': 0.00011317338162064282, 'actual': 0.000679040289723857, 'haul': 0.00011317338162064282, '1000': 0.00011317338162064282, 'unitedairlin': 0.00022634676324128565, 'care': 0.0018107741059302852, 'annricord': 0.00011317338162064282, 'moodlight': 0.00011317338162064282, 'calm': 0.00011317338162064282, 'purple_heart': 0.00022634676324128565, ':airplan': 0.0011317338162064282, 'moodlitmonday': 0.00011317338162064282, 'respond': 0.0007922136713444998, 'fella': 0.00022634676324128565, 'pacif': 0.00011317338162064282, 'zone': 0.00011317338162064282, 'tywint': 0.00011317338162064282, 'small': 0.0004526935264825713, '--': 0.0009053870529651426, 'detail': 0.0003395201448619285, 'or': 0.0011317338162064282, 'irrit': 0.00011317338162064282, 'ahoy': 0.00011317338162064282, 'allyoucanjetpass': 0.00011317338162064282, 'holder': 0.00022634676324128565, 'anticip': 0.00011317338162064282, 'direct': 0.0009053870529651426, 'havana': 0.00011317338162064282, 'cuba': 0.00011317338162064282, 'straight': 0.0003395201448619285, 'stori': 0.0003395201448619285, 'honest': 0.00011317338162064282, 'expect': 0.0003395201448619285, 'chiberia': 0.00011317338162064282, '11:10p': 0.00011317338162064282, 'expand': 0.00011317338162064282, 'each': 0.0003395201448619285, 'rt': 0.0004526935264825713, 'man': 0.0005658669081032141, 'steel': 0.00011317338162064282, 'might': 0.000679040289723857, 'faster': 0.0003395201448619285, '–': 0.00011317338162064282, 'sciencebehindtheexperi': 0.00011317338162064282, 'heck': 0.00011317338162064282, 'gagent': 0.00011317338162064282, 'danni': 0.00011317338162064282, 'us628': 0.00011317338162064282, 'dfw-clt': 0.00011317338162064282, 'kept': 0.0003395201448619285, 'irrop': 0.00011317338162064282, 'profession': 0.0004526935264825713, 'fill': 0.0004526935264825713, 'luck': 0.0004526935264825713, 'common': 0.00011317338162064282, 'usual': 0.00011317338162064282, 'shock': 0.00011317338162064282, '1798': 0.00011317338162064282, 'chairman': 0.00022634676324128565, 'recognit': 0.00011317338162064282, 'coach': 0.0003395201448619285, 'missedupgrad': 0.00011317338162064282, 'flightli': 0.00011317338162064282, 'perhap': 0.00022634676324128565, 'bug': 0.00011317338162064282, '2:55': 0.00011317338162064282, 'statement': 0.00011317338162064282, 'funflightattend': 0.00011317338162064282, 'flt635': 0.00011317338162064282, 'sundayfunday': 0.00011317338162064282, 'song': 0.00011317338162064282, 'marsha': 0.00011317338162064282, 'm.': 0.00011317338162064282, 'myrtl': 0.00011317338162064282, 'beach': 0.00022634676324128565, 'respect': 0.0003395201448619285, 'prais': 0.00022634676324128565, 'thankyouforeveryth': 0.00011317338162064282, 'cabo': 0.00011317338162064282, 'smoothflight': 0.00011317338162064282, 'frequentfly': 0.00011317338162064282, 'heavenlychc9': 0.00011317338162064282, \"'d\": 0.0005658669081032141, 'least': 0.0004526935264825713, 'cocktail': 0.00011317338162064282, 'r': 0.00011317338162064282, 'remov': 0.0003395201448619285, 'method': 0.0004526935264825713, '22': 0.0003395201448619285, 'folk': 0.0004526935264825713, 'cessna': 0.0003395201448619285, 'becom': 0.0003395201448619285, '747': 0.0004526935264825713, 'mine': 0.00022634676324128565, 'natt': 0.00011317338162064282, 'lmfaooo': 0.00011317338162064282, 'huge': 0.0007922136713444998, '1348': 0.00011317338162064282, 'dca': 0.0004526935264825713, 'sju': 0.00011317338162064282, 'organ': 0.00011317338162064282, 'vega': 0.001244907197827071, 'pic': 0.00011317338162064282, 'centric': 0.00022634676324128565, 'anamarket': 0.00022634676324128565, 'whenev': 0.00022634676324128565, 'blue': 0.000679040289723857, 'sky': 0.0005658669081032141, 'deliv': 0.0003395201448619285, 'promis': 0.00022634676324128565, 'ask': 0.000679040289723857, 'boyfriend': 0.00022634676324128565, 'prom': 0.00011317338162064282, 'loudspeak': 0.00011317338162064282, '494': 0.00011317338162064282, 'mad': 0.0003395201448619285, 'nyc-': 0.00011317338162064282, 'getaway': 0.00011317338162064282, '59': 0.00011317338162064282, 'one-way': 0.00011317338162064282, 'citi': 0.00011317338162064282, 'cheapflight': 0.00011317338162064282, 'farecompar': 0.00011317338162064282, 'mco': 0.00022634676324128565, '4help': 0.00011317338162064282, 'en': 0.00011317338162064282, 'rout': 0.0005658669081032141, 'rebook': 0.0004526935264825713, 'refund': 0.0007922136713444998, 'differ': 0.00022634676324128565, 'reduc': 0.00011317338162064282, 'price': 0.0004526935264825713, 'sold': 0.00011317338162064282, 'check-in': 0.00011317338162064282, 'prioriti': 0.0003395201448619285, 'certif': 0.00011317338162064282, 'yeseniahernandez': 0.00011317338162064282, 'among': 0.00011317338162064282, 'peculiar': 0.00011317338162064282, 'airplan': 0.0010185604345857855, 'definit': 0.0004526935264825713, 'announc': 0.00011317338162064282, 'offici': 0.00011317338162064282, 'favorit': 0.0003395201448619285, 'creat': 0.00011317338162064282, 'magic': 0.00022634676324128565, 'friendlyski': 0.00022634676324128565, 'careyon': 0.00011317338162064282, 'io': 0.00022634676324128565, 'collect': 0.00011317338162064282, 'touchdown': 0.00011317338162064282, '226': 0.00022634676324128565, 'jetbluerock': 0.00022634676324128565, 'lucki': 0.00011317338162064282, 'annamari': 0.00011317338162064282, 'norri': 0.00011317338162064282, 'bwi': 0.0003395201448619285, 'recogn': 0.00011317338162064282, 'whitterbug': 0.00011317338162064282, 'spoke': 0.0003395201448619285, 'reinstat': 0.00011317338162064282, '^ey': 0.00022634676324128565, 'boss': 0.00011317338162064282, 'alynewton': 0.00011317338162064282, 'fav': 0.00022634676324128565, 'jp': 0.00011317338162064282, 'sabe': 0.00011317338162064282, 'md80/dc10': 0.00011317338162064282, 'happi': 0.0018107741059302852, 'md80': 0.00022634676324128565, 'special': 0.0004526935264825713, 'aaron': 0.00011317338162064282, 'tampa': 0.0003395201448619285, 'offic': 0.00022634676324128565, 'liter': 0.0003395201448619285, 'mission': 0.00022634676324128565, 'accomplish': 0.00022634676324128565, 'california': 0.00022634676324128565, 'wikipearl': 0.00011317338162064282, 'natprodexpo': 0.00011317338162064282, 'march': 0.00011317338162064282, '6-8': 0.00011317338162064282, 'expowest': 0.00011317338162064282, 'ny': 0.00011317338162064282, 'virgin': 0.0005658669081032141, 'america': 0.0004526935264825713, 'refus': 0.00011317338162064282, 'bc': 0.00022634676324128565, 'child': 0.00022634676324128565, 'peanut': 0.00011317338162064282, 'allergi': 0.00022634676324128565, ':smiling_face_with_smiling_ey': 0.0004526935264825713, 'stellar': 0.00022634676324128565, 'earn': 0.00011317338162064282, 'tire': 0.00011317338162064282, 'anywher': 0.00011317338162064282, 'els': 0.0003395201448619285, 'blue_heart': 0.0004526935264825713, ':blue_heart': 0.00011317338162064282, 'becuz': 0.00011317338162064282, 'drop': 0.00011317338162064282, '1': 0.0005658669081032141, 'ring': 0.00011317338162064282, 'without': 0.00022634676324128565, 'difficulti': 0.00011317338162064282, 'extrem': 0.00011317338162064282, 'complaint': 0.00011317338162064282, 'm': 0.00011317338162064282, 'oscar': 0.00011317338162064282, 'bubbl': 0.00011317338162064282, 'via': 0.0009053870529651426, 'glad': 0.0010185604345857855, 'svc': 0.00011317338162064282, 'mint': 0.0007922136713444998, 'bloodi': 0.00011317338162064282, 'mari': 0.00022634676324128565, 'row': 0.0003395201448619285, '27': 0.00011317338162064282, 'locat': 0.00022634676324128565, 'detroit': 0.00011317338162064282, 'matter': 0.0003395201448619285, 'emerg': 0.00011317338162064282, 'exit': 0.00011317338162064282, '6': 0.00022634676324128565, 'win': 0.0005658669081032141, 'either': 0.0003395201448619285, 'killeen': 0.00011317338162064282, 'tx': 0.00011317338162064282, 'hey': 0.0005658669081032141, 'pple': 0.00011317338162064282, 'howev': 0.00011317338162064282, 'push': 0.00011317338162064282, 'alicia': 0.00011317338162064282, 'exceptionalservic': 0.00011317338162064282, 'versu': 0.00011317338162064282, 'conveni': 0.00011317338162064282, 'gorgeou': 0.00022634676324128565, 'palm_tre': 0.00011317338162064282, 'charm': 0.00011317338162064282, 'carousel': 0.00011317338162064282, 'welldon': 0.00011317338162064282, 'goodflight': 0.00011317338162064282, 's': 0.00011317338162064282, 'ninadavuluri': 0.00022634676324128565, 'onboard': 0.0003395201448619285, 'hegshmeg': 0.00011317338162064282, 'o': 0.00022634676324128565, 'elabor': 0.00011317338162064282, 'vp': 0.00011317338162064282, 'aircraft': 0.00011317338162064282, 'pick': 0.0004526935264825713, 'news': 0.0003395201448619285, 'jet': 0.0003395201448619285, 'blizzu': 0.00011317338162064282, 'hizous': 0.00011317338162064282, 'blush': 0.00011317338162064282, 'mostli': 0.00011317338162064282, 'sorrynotsorri': 0.00011317338162064282, 'gon': 0.00011317338162064282, 'na': 0.0004526935264825713, 'smiling_face_with_sunglass': 0.00022634676324128565, 'dmed': 0.00011317338162064282, '90': 0.00011317338162064282, 'truli': 0.0003395201448619285, 'goe': 0.00022634676324128565, 'wrong': 0.00011317338162064282, '3970': 0.00011317338162064282, 'bna-rdu': 0.00011317338162064282, '2160': 0.00011317338162064282, 'wrap': 0.00011317338162064282, 'amount': 0.00011317338162064282, 'apolog': 0.0007922136713444998, 'motion': 0.00011317338162064282, 'quickli': 0.0005658669081032141, 'notifi': 0.00022634676324128565, 'c14': 0.00011317338162064282, '1791': 0.00011317338162064282, 'elp': 0.00011317338162064282, 'emb145': 0.00011317338162064282, 'elpaso': 0.00011317338162064282, 'michel': 0.00022634676324128565, 't1': 0.00011317338162064282, 'refresh': 0.00022634676324128565, 'afford': 0.00022634676324128565, 'friday': 0.0005658669081032141, 'fortunemagazin': 0.0005658669081032141, 'friendliest': 0.00022634676324128565, 'desk': 0.000679040289723857, 'paper': 0.00011317338162064282, 'race': 0.00011317338162064282, 'sw': 0.0007922136713444998, 'gift': 0.0003395201448619285, 'ppl': 0.00011317338162064282, 'dfw-lax': 0.00011317338162064282, '883': 0.00011317338162064282, 'sweet': 0.00022634676324128565, 'fine': 0.0004526935264825713, 'websit': 0.0003395201448619285, 'reach': 0.0003395201448619285, 'div': 0.00011317338162064282, '2k424j0': 0.00011317338162064282, 'under': 0.00022634676324128565, 'dnx58v': 0.00011317338162064282, 'bos-la': 0.00011317338162064282, 'nonstop': 0.00022634676324128565, 'depart': 0.00022634676324128565, 'vabeatsjblu': 0.00011317338162064282, 'probabl': 0.00022634676324128565, 'coffe': 0.00011317338162064282, 'stay': 0.000679040289723857, 'awak': 0.00011317338162064282, 'bringyourown': 0.00011317338162064282, 'kleankanteen': 0.00011317338162064282, 'wendi': 0.00011317338162064282, '127': 0.00011317338162064282, '2/17': 0.00011317338162064282, 'orlando': 0.0004526935264825713, '441': 0.00011317338162064282, 'wc': 0.00022634676324128565, 'stat': 0.00022634676324128565, 'disney': 0.00022634676324128565, 'princess': 0.00011317338162064282, 'half': 0.00011317338162064282, 'marathon': 0.00011317338162064282, 'type': 0.00011317338162064282, 'excit': 0.000679040289723857, '1700': 0.00022634676324128565, '51': 0.00011317338162064282, 'surprisingli': 0.00011317338162064282, 'competitor': 0.00011317338162064282, 'spiritairlin': 0.00011317338162064282, 'acknowledg': 0.00022634676324128565, '1875': 0.00011317338162064282, 'await': 0.00011317338162064282, 'area': 0.00022634676324128565, 'flightlat': 0.0007922136713444998, 'flightr': 0.00011317338162064282, 'eliza': 0.00011317338162064282, 'cheat': 0.00011317338162064282, 'airtahitinui': 0.00011317338162064282, '417': 0.00011317338162064282, 'ogg': 0.00011317338162064282, 'yet': 0.00011317338162064282, 'high': 0.0004526935264825713, 'noth': 0.00022634676324128565, 'ch': 0.00011317338162064282, 'join': 0.00011317338162064282, 'gotcha': 0.00011317338162064282, ':grinning_face_with_big_ey': 0.00011317338162064282, 'along': 0.00022634676324128565, 'advic': 0.00011317338162064282, 'a-ok': 0.00011317338162064282, 'alavera': 0.00011317338162064282, 'fam': 0.00011317338162064282, 'gf': 0.00011317338162064282, '2.5yr': 0.00011317338162064282, 'sf': 0.00022634676324128565, 'tulsa': 0.00011317338162064282, 'southwestluvsweep': 0.00011317338162064282, 'samoore10': 0.00011317338162064282, 'kind': 0.0003395201448619285, 'southwestrock': 0.00011317338162064282, 'sun': 0.00011317338162064282, 'visor': 0.00011317338162064282, 'carrier': 0.0003395201448619285, '1138': 0.00011317338162064282, 'lga': 0.00022634676324128565, 'glenn': 0.00011317338162064282, 'cole': 0.00011317338162064282, 'buffalo-niagara': 0.00011317338162064282, 'epic': 0.00011317338162064282, '863-': 0.00011317338162064282, 'pleasure-': 0.00011317338162064282, 'outstand': 0.0005658669081032141, 'necessari': 0.00022634676324128565, 'confid': 0.00011317338162064282, 'appropri': 0.00011317338162064282, 'report': 0.00022634676324128565, 'wing': 0.00022634676324128565, 'site': 0.0003395201448619285, 'act': 0.00011317338162064282, 'heartbroken': 0.00011317338162064282, 'current': 0.00011317338162064282, 'danc': 0.0003395201448619285, 'stevi': 0.00011317338162064282, 're-upgrad': 0.00011317338162064282, '45': 0.00011317338162064282, 'fattuesday': 0.00011317338162064282, 'celebr': 0.0003395201448619285, 'mardigra': 0.00011317338162064282, 'nut': 0.00022634676324128565, 'wine': 0.00022634676324128565, 'integr': 0.0003395201448619285, 'activ': 0.00011317338162064282, 'surf': 0.00011317338162064282, 'bonni': 0.00011317338162064282, 'promot': 0.00022634676324128565, '1610': 0.00011317338162064282, 'yyz': 0.00011317338162064282, 'bit': 0.00011317338162064282, 'hipster': 0.00011317338162064282, 'innov': 0.00011317338162064282, 'brand': 0.0003395201448619285, 'mainten': 0.00022634676324128565, 'ton': 0.00011317338162064282, 'whoever': 0.00011317338162064282, 'acct': 0.00011317338162064282, 'handshak': 0.00011317338162064282, 'chocol': 0.00022634676324128565, 'problemsolv': 0.00011317338162064282, 'wednesday': 0.00011317338162064282, 'milan': 0.00011317338162064282, 'itali': 0.00011317338162064282, 'midoexhibit': 0.00011317338162064282, 'greatli': 0.00011317338162064282, 'settl': 0.00011317338162064282, 'prop': 0.00022634676324128565, 'parizad': 0.00011317338162064282, 'checkin': 0.00011317338162064282, 'sacramento': 0.00011317338162064282, 'hawaii': 0.00022634676324128565, 'pacificbiznew': 0.00011317338162064282, 'instant': 0.00011317338162064282, 'import': 0.0003395201448619285, 'legroom': 0.00022634676324128565, 'seattlebound': 0.00011317338162064282, 'short': 0.00022634676324128565, '150': 0.00011317338162064282, '....': 0.00022634676324128565, 'az': 0.00011317338162064282, 'mke': 0.00011317338162064282, 'account': 0.0003395201448619285, 'dal-au': 0.00022634676324128565, '39': 0.00011317338162064282, 'c/': 0.00011317338162064282, 'paulgordonbrown': 0.00011317338162064282, 'jose': 0.00011317338162064282, 'y': 0.00022634676324128565, 'd_goodspe': 0.00011317338162064282, '^kp': 0.00011317338162064282, 'maryella_green': 0.00022634676324128565, 'inconveni': 0.00011317338162064282, 'protect': 0.00011317338162064282, 'kerri': 0.00011317338162064282, 'rachel': 0.00022634676324128565, 's.': 0.00011317338162064282, 'wheel': 0.00022634676324128565, 'front': 0.00011317338162064282, 'cinziannap': 0.00011317338162064282, 'contactcej': 0.00011317338162064282, 'flight~pleas': 0.00011317338162064282, 'amazingli': 0.00011317338162064282, 'mistak': 0.00011317338162064282, 'hang': 0.00022634676324128565, 'forev': 0.0003395201448619285, '48hr': 0.00011317338162064282, 'those': 0.0011317338162064282, 'freaki': 0.00011317338162064282, 'coincid': 0.00011317338162064282, 'side': 0.00011317338162064282, 'anybodi': 0.00011317338162064282, \"didn't…but\": 0.00011317338162064282, '-d': 0.00011317338162064282, 'replac': 0.00011317338162064282, 'vitaminwat': 0.00011317338162064282, 'bravo': 0.00011317338162064282, 'clapping_hand': 0.0005658669081032141, ':clapping_hand': 0.000679040289723857, 'clinking_beer_mug': 0.00011317338162064282, ':clinking_beer_mug': 0.00011317338162064282, 'leinenkugel': 0.00011317338162064282, 'dosequi': 0.00011317338162064282, 'fattir': 0.00011317338162064282, 'otherwis': 0.00011317338162064282, 'x': 0.00011317338162064282, 'kindli': 0.00011317338162064282, 'v-mail': 0.00011317338162064282, 'tech': 0.00011317338162064282, 'cont': 0.00022634676324128565, 'dude': 0.00011317338162064282, 'shaquil': 0.00011317338162064282, 'vs.': 0.00011317338162064282, 'crazi': 0.00011317338162064282, 'angri': 0.0003395201448619285, 'tough': 0.00011317338162064282, 'choic': 0.0003395201448619285, 'simultan': 0.00011317338162064282, 'wishmyflightwaslong': 0.00011317338162064282, 'classi': 0.00011317338162064282, 'winking_fac': 0.0011317338162064282, '10': 0.00022634676324128565, 'male': 0.00011317338162064282, '3913': 0.00011317338162064282, 'indi': 0.00011317338162064282, 'reschedul': 0.0005658669081032141, 'poor': 0.00011317338162064282, 'posit': 0.00011317338162064282, 'opposit': 0.00011317338162064282, 'thete': 0.00011317338162064282, 'round-trip': 0.00011317338162064282, 'arriv': 0.0003395201448619285, 'auction': 0.00011317338162064282, 'post-mast': 0.00011317338162064282, 'invit': 0.00011317338162064282, 'reflight': 0.000679040289723857, 'problemss': 0.0003395201448619285, 'memo': 0.00011317338162064282, 'columbu': 0.00022634676324128565, 'oakland': 0.00011317338162064282, 'serious': 0.00011317338162064282, 'away': 0.0005658669081032141, ':sun_with_fac': 0.00011317338162064282, 'router': 0.00011317338162064282, 'fuselag': 0.00011317338162064282, 'insid': 0.00022634676324128565, 'jetba': 0.00011317338162064282, 'truebluemember4lif': 0.00011317338162064282, 'l': 0.00011317338162064282, 'phoenix': 0.00022634676324128565, 'younger': 0.00011317338162064282, 'near': 0.00011317338162064282, 't5': 0.00022634676324128565, 'oscars2015': 0.00011317338162064282, 'ar': 0.00011317338162064282, 'dia': 0.00022634676324128565, 'miami': 0.0003395201448619285, 'wong': 0.00011317338162064282, 'marisol': 0.00011317338162064282, 'pimentel': 0.00011317338162064282, 'pleasant': 0.00022634676324128565, 'chao': 0.00011317338162064282, '.thank': 0.00011317338162064282, 'offer': 0.0003395201448619285, 'believ': 0.00022634676324128565, '2955.': 0.00011317338162064282, 'au': 0.00022634676324128565, 'bergstrom': 0.00011317338162064282, 'cancun': 0.00022634676324128565, 'intl': 0.00022634676324128565, '737': 0.00011317338162064282, 'boeingairplan': 0.00011317338162064282, 'planelook': 0.00011317338162064282, 'stun': 0.00011317338162064282, 'treatment': 0.00011317338162064282, '+1': 0.00011317338162064282, 'point': 0.00022634676324128565, 'oscarnight': 0.00011317338162064282, 'xoxo': 0.00022634676324128565, 'complimentari': 0.00011317338162064282, 'switch': 0.00022634676324128565, 'age': 0.00011317338162064282, '30.': 0.00011317338162064282, 'giggl': 0.00011317338162064282, 'goodgen': 0.00011317338162064282, 'ilookyoung': 0.00011317338162064282, 'swadivers': 0.00011317338162064282, 'readi': 0.0003395201448619285, 'inspir': 0.00022634676324128565, 'holi': 0.00011317338162064282, 'speed': 0.0003395201448619285, 'internet': 0.00022634676324128565, 'batman': 0.00011317338162064282, 'club': 0.0004526935264825713, 'iad': 0.00011317338162064282, 'insan': 0.00011317338162064282, 'artisan': 0.00011317338162064282, 'chees': 0.0003395201448619285, 'pair': 0.0003395201448619285, 'turbul': 0.00011317338162064282, 'imagin': 0.00011317338162064282, 'dragon': 0.00011317338162064282, 'track': 0.00011317338162064282, 'robin': 0.00022634676324128565, 'phxskyharbor': 0.00011317338162064282, 'lost/found': 0.00011317338162064282, 'reunit': 0.00011317338162064282, 'ipad': 0.00011317338162064282, 'delight': 0.00022634676324128565, 'platter': 0.00011317338162064282, 'abund': 0.00011317338162064282, 'isp': 0.00011317338162064282, 'frigidfriday': 0.00011317338162064282, 'charg': 0.0004526935264825713, 'stillmakingmepoorthough': 0.00011317338162064282, '.....': 0.00011317338162064282, 'tip': 0.00011317338162064282, 'booz': 0.00011317338162064282, 'bach': 0.00011317338162064282, 'parti': 0.0003395201448619285, 'gt': 0.0005658669081032141, 'battierccipuppi': 0.00011317338162064282, 'puppi': 0.00011317338162064282, 'cute': 0.00011317338162064282, 'five': 0.00011317338162064282, 'accommod': 0.00011317338162064282, 'peanut/treenut': 0.00011317338162064282, 'onlin': 0.00011317338162064282, 'cover': 0.00022634676324128565, 'classiq': 0.00011317338162064282, 'greetingz': 0.00011317338162064282, 'ladygaga': 0.00011317338162064282, 'carrieunderwood': 0.00011317338162064282, 'gaga': 0.00011317338162064282, 'mosaicmecrazi': 0.00011317338162064282, 'sunris': 0.00022634676324128565, 'nofilterneed': 0.00011317338162064282, 'flyfi…': 0.00011317338162064282, 'sfo-': 0.00011317338162064282, 'promo': 0.0003395201448619285, 'code': 0.00022634676324128565, 'yeehaw': 0.00011317338162064282, 'vent': 0.00011317338162064282, 'valentin': 0.00011317338162064282, 'heart': 0.00022634676324128565, 'mayb': 0.0004526935264825713, 'expedit': 0.00011317338162064282, 'empathi': 0.00011317338162064282, 'luggag': 0.00022634676324128565, 'steal': 0.00022634676324128565, 'leg': 0.00011317338162064282, 'graphic': 0.00011317338162064282, 'minim': 0.00011317338162064282, 'iconographi': 0.00011317338162064282, 'd': 0.0003395201448619285, 'red_heart': 0.0009053870529651426, '1007': 0.00011317338162064282, 'houston-bogota': 0.00011317338162064282, 'mechan': 0.00022634676324128565, 'energi': 0.00022634676324128565, 'home/famili': 0.00011317338162064282, 'scott': 0.00011317338162064282, 'yo': 0.00011317338162064282, 'bottom': 0.00011317338162064282, 'two_heart': 0.00022634676324128565, 'hayleymad': 0.00011317338162064282, 'lowdown': 0.00011317338162064282, ':two_heart': 0.00022634676324128565, ':smiling_face_with_heart-ey': 0.0004526935264825713, ':right_arrow_curving_up': 0.00022634676324128565, 'tag': 0.00022634676324128565, 'line': 0.0003395201448619285, 'ski': 0.00011317338162064282, 'christma': 0.00011317338162064282, 'vacatinn': 0.00011317338162064282, 'decemb': 0.00011317338162064282, 'devalu': 0.00011317338162064282, 'mileag': 0.00011317338162064282, 'smiling_face_with_heart-ey': 0.00022634676324128565, '1137': 0.00011317338162064282, 'atl-au': 0.00011317338162064282, 'wallet': 0.00011317338162064282, 'winterweath': 0.00011317338162064282, 'glove': 0.00011317338162064282, 'maria': 0.00011317338162064282, 'yup': 0.00022634676324128565, 'beani': 0.00011317338162064282, 'sdf': 0.00011317338162064282, 'storm': 0.00011317338162064282, 'told': 0.0004526935264825713, 'hurrican': 0.00011317338162064282, 'deni': 0.00011317338162064282, 'thk': 0.00011317338162064282, '1786': 0.00011317338162064282, '2/19': 0.00011317338162064282, 'overal': 0.00011317338162064282, 'improv': 0.00022634676324128565, 'food': 0.0003395201448619285, 'c11': 0.00011317338162064282, 'oppos': 0.00011317338162064282, 'game': 0.00022634676324128565, 'pull': 0.00022634676324128565, 'runway': 0.00011317338162064282, 'mate': 0.00011317338162064282, 'cb': 0.00011317338162064282, 'anytim': 0.00011317338162064282, '6170': 0.00011317338162064282, 'immedi': 0.00011317338162064282, 'forth': 0.00011317338162064282, 'savannah': 0.00011317338162064282, 'airbu': 0.00022634676324128565, 'blueman': 0.00022634676324128565, 'corevalu': 0.00011317338162064282, 'passion': 0.00011317338162064282, 'aerojobmarket': 0.00011317338162064282, 'syracus': 0.00011317338162064282, 'interview': 0.00011317338162064282, 'fa': 0.0004526935264825713, 'position-': 0.00011317338162064282, 'goal': 0.00011317338162064282, 'dream': 0.0004526935264825713, '36': 0.00011317338162064282, 'disneyworld': 0.00011317338162064282, 'rundisney': 0.00011317338162064282, 'princesshalf': 0.00011317338162064282, 'lower': 0.00011317338162064282, 'fare': 0.00022634676324128565, 'juli': 0.00011317338162064282, '8': 0.0004526935264825713, '13': 0.00011317338162064282, 'curiou': 0.00011317338162064282, 'competit': 0.00011317338162064282, 'variou': 0.00011317338162064282, 'capt': 0.00022634676324128565, 'joe': 0.00011317338162064282, '633.': 0.00011317338162064282, '{': 0.00011317338162064282, 'ahem': 0.00011317338162064282, '}': 0.00011317338162064282, '833': 0.00011317338162064282, 'helen': 0.00011317338162064282, '0xjare': 0.00011317338162064282, 'practic': 0.00011317338162064282, 'transport': 0.00011317338162064282, 'ai': 0.00011317338162064282, 'kindl': 0.00011317338162064282, 'mail': 0.00011317338162064282, 'itinerari': 0.00011317338162064282, 'shift': 0.00011317338162064282, 'impend': 0.00011317338162064282, 'painless': 0.00011317338162064282, 'squar': 0.00022634676324128565, 'sooner': 0.00011317338162064282, 'jackpot': 0.00011317338162064282, 'hardli': 0.00011317338162064282, 'bundl': 0.00011317338162064282, 'fred': 0.00011317338162064282, 'flintston': 0.00011317338162064282, 'kill': 0.00022634676324128565, 'asap': 0.00011317338162064282, 'honestli': 0.00011317338162064282, 'laugh': 0.00011317338162064282, 'accru': 0.00011317338162064282, 'cosmet': 0.00011317338162064282, 'flatter': 0.00011317338162064282, 'proud': 0.00022634676324128565, 'parachuteguy': 0.00011317338162064282, 'bridesmaid': 0.00011317338162064282, 'puerto': 0.00011317338162064282, 'vallarta': 0.00011317338162064282, 'ass': 0.00011317338162064282, 'host': 0.00011317338162064282, 'theacademi': 0.00011317338162064282, 'peanutsonaplatt': 0.00011317338162064282, '777': 0.00022634676324128565, 'jfk-lhr': 0.00011317338162064282, '513mph': 0.00011317338162064282, 'tailwind': 0.00011317338162064282, 'lay': 0.00011317338162064282, 'bedofros': 0.00011317338162064282, 'color': 0.00022634676324128565, 'brandmanc': 0.0003395201448619285, 'smoooothest': 0.00011317338162064282, 'southwestsmoothi': 0.00011317338162064282, 'taken': 0.0005658669081032141, 'commend': 0.00011317338162064282, '4386': 0.00011317338162064282, 'doubl': 0.00011317338162064282, 'portlandjetport': 0.00011317338162064282, 'elevategold': 0.00011317338162064282, 'tuftsenergyconf': 0.00011317338162064282, 'break': 0.00011317338162064282, 'barrier': 0.00011317338162064282, 'clean': 0.00011317338162064282, 'airlineadvis': 0.00011317338162064282, 'loui': 0.00011317338162064282, 'delet': 0.00011317338162064282, 'swoop': 0.00011317338162064282, 'faith': 0.00011317338162064282, 'restor': 0.00011317338162064282, 'dealt': 0.00011317338162064282, 'captain': 0.00022634676324128565, '2324': 0.00022634676324128565, 'note': 0.0003395201448619285, 'encount': 0.00011317338162064282, 'nola': 0.00011317338162064282, 'onelov': 0.00011317338162064282, 'passeneg': 0.00011317338162064282, 'sourhwest': 0.00011317338162064282, 'imaginedragon': 0.000679040289723857, 'compani': 0.0007922136713444998, 'share': 0.0004526935264825713, 'link': 0.00011317338162064282, '68': 0.00011317338162064282, 'degre': 0.00011317338162064282, 'texa': 0.00022634676324128565, '^mn': 0.00011317338162064282, '^kn': 0.00011317338162064282, 'patient': 0.00022634676324128565, 'domest': 0.00022634676324128565, 'gettin': 0.00011317338162064282, 'fanci': 0.00011317338162064282, 'lieflat': 0.00011317338162064282, 'menu': 0.00011317338162064282, 'saxonandparol': 0.00011317338162064282, 'lobstermac': 0.00011317338162064282, 'bloodymari': 0.00011317338162064282, 'jetsett': 0.00011317338162064282, 'nvm': 0.00011317338162064282, 'annnndddd': 0.00011317338162064282, 'product': 0.00011317338162064282, 'noneoth': 0.00011317338162064282, 'veteran': 0.00011317338162064282, 'advantag': 0.00011317338162064282, 'mco.keep': 0.00011317338162064282, 'kmdw': 0.00011317338162064282, 'b738': 0.00011317338162064282, 'uno_basebal': 0.00011317338162064282, 'led': 0.00011317338162064282, 'sing': 0.00011317338162064282, 'luvintheair': 0.00011317338162064282, 'megzezzo': 0.00011317338162064282, 'injur': 0.00011317338162064282, 'roadwarrior': 0.00011317338162064282, 'oper': 0.00022634676324128565, 'style': 0.00011317338162064282, 'word': 0.00022634676324128565, 'strive': 0.00011317338162064282, \"'custom\": 0.00011317338162064282, 'commun': 0.00011317338162064282, 'advertis': 0.00011317338162064282, 'etc': 0.00011317338162064282, 'nwk': 0.00011317338162064282, 'boom': 0.00011317338162064282, 'mia': 0.00011317338162064282, 'lhr': 0.00011317338162064282, ':red_heart': 0.0003395201448619285, 'regardless': 0.00011317338162064282, 'accept': 0.00011317338162064282, 'customerservicewin': 0.00011317338162064282, 'itravelalot': 0.00011317338162064282, '504': 0.00011317338162064282, 'yvr': 0.00022634676324128565, 'veggi': 0.00011317338162064282, 'oliv': 0.00011317338162064282, 'addit': 0.00011317338162064282, 'cracker': 0.00011317338162064282, 'mix': 0.00011317338162064282, '4553': 0.00011317338162064282, 'pwm': 0.00011317338162064282, 'fab': 0.00022634676324128565, 'asset': 0.00011317338162064282, '1f': 0.00011317338162064282, 'yep': 0.00011317338162064282, 'memori': 0.0003395201448619285, 'shout-out': 0.00011317338162064282, 'cold': 0.0003395201448619285, 'messag': 0.00011317338162064282, 'deliveri': 0.00011317338162064282, 'statu': 0.0003395201448619285, 'nlrphoto': 0.00011317338162064282, 'market': 0.00022634676324128565, 'dept': 0.00011317338162064282, 'buy': 0.00011317338162064282, 'richard': 0.00011317338162064282, 'bean': 0.00011317338162064282, 'arizona': 0.00011317338162064282, '184': 0.00011317338162064282, '2x': 0.00011317338162064282, 'walk': 0.00022634676324128565, 'onto': 0.00022634676324128565, '676': 0.00011317338162064282, 'tuesday': 0.00011317338162064282, '15': 0.00011317338162064282, '1051.': 0.00011317338162064282, 'departur': 0.0004526935264825713, '3:55pm': 0.00011317338162064282, 'suck': 0.00011317338162064282, 'bingo': 0.00011317338162064282, 'noah': 0.00011317338162064282, '^mr': 0.00011317338162064282, 'luxuries/aesthet': 0.00011317338162064282, 'harbor': 0.00011317338162064282, 'courteou': 0.00022634676324128565, 'expediti': 0.00011317338162064282, 'onechildfourbag': 0.00011317338162064282, 'safetyservic': 0.00011317338162064282, 'flyer': 0.0003395201448619285, 'smart': 0.00011317338162064282, 'mt': 0.00011317338162064282, 've': 0.0003395201448619285, 'partner': 0.00011317338162064282, 'wsj': 0.00011317338162064282, 'digit': 0.00011317338162064282, 'access': 0.00022634676324128565, 'three': 0.00011317338162064282, 'keepitclassi': 0.00011317338162064282, 'real': 0.00011317338162064282, 'mvp': 0.00011317338162064282, 'cayman_island': 0.00011317338162064282, 'bar': 0.00011317338162064282, 'gracia': 0.00011317338162064282, 'daili': 0.00022634676324128565, 'super-fast': 0.00011317338162064282, 'cgjase': 0.00011317338162064282, 'wan': 0.00022634676324128565, 'grand': 0.00011317338162064282, 'gogo': 0.00011317338162064282, 'power': 0.00011317338162064282, 'laptop': 0.00011317338162064282, 'iphon': 0.00011317338162064282, 'boat-styl': 0.00011317338162064282, 'swivel': 0.00011317338162064282, 'dietcok': 0.00011317338162064282, 'happyfli': 0.00011317338162064282, 'togeth': 0.0003395201448619285, 'sparkl': 0.00011317338162064282, ':face_screaming_in_fear': 0.00011317338162064282, 'sylvie75015': 0.00011317338162064282, 'sylvi': 0.00011317338162064282, 'yourock': 0.00011317338162064282, 'mxo42': 0.00011317338162064282, 'henrikwagner73': 0.00011317338162064282, '644': 0.00011317338162064282, '1hr': 0.00011317338162064282, 'tarmac': 0.00011317338162064282, '20min': 0.00011317338162064282, 'sentiment': 0.00011317338162064282, 'superb': 0.00011317338162064282, 'rave': 0.00011317338162064282, 'stress': 0.00022634676324128565, 'weather-rel': 0.00011317338162064282, 'flightd': 0.00022634676324128565, 'glitch': 0.00011317338162064282, 'custexp': 0.00011317338162064282, 'militari': 0.00022634676324128565, 'stloui': 0.00011317338162064282, 'promptli': 0.00011317338162064282, '240': 0.00011317338162064282, 'km': 0.00011317338162064282, 'drive': 0.00011317338162064282, 'file': 0.00022634676324128565, 'amiltx3': 0.00011317338162064282, 'forgiven': 0.00011317338162064282, 'customerit': 0.00011317338162064282, '^ll': 0.00011317338162064282, 'bae': 0.00011317338162064282, 'ruth_slobodin': 0.00011317338162064282, 'ruth': 0.00011317338162064282, 'justdoit': 0.00011317338162064282, 'youknowyouwantto': 0.00011317338162064282, 'heart_with_arrow': 0.00011317338162064282, '578.': 0.00011317338162064282, 'preciat': 0.00011317338162064282, 'nj': 0.00011317338162064282, 'blue_circl': 0.00011317338162064282, ':blue_circl': 0.00022634676324128565, 'brandssayingba': 0.00011317338162064282, 'chief': 0.00011317338162064282, 'cousin': 0.00011317338162064282, 'alex': 0.00022634676324128565, 'espinosa': 0.00011317338162064282, 'somewher': 0.00011317338162064282, 'flyitforward': 0.00011317338162064282, 'seriou': 0.00011317338162064282, 'injuri': 0.00011317338162064282, 'crash': 0.00011317338162064282, 'dai_presid': 0.00011317338162064282, 'de-ic': 0.00011317338162064282, 'joanna': 0.00011317338162064282, 'jfk-sfo': 0.00011317338162064282, 'pure': 0.00022634676324128565, 'tim': 0.00011317338162064282, '-huge': 0.00011317338162064282, 'fo': 0.00011317338162064282, '1623': 0.00011317338162064282, 'sjo-iad': 0.00011317338162064282, 'hand': 0.00011317338162064282, 'tradit': 0.00011317338162064282, 'aliv': 0.00011317338162064282, 'sfo-jfk': 0.00011317338162064282, 'dare': 0.00011317338162064282, 'consist': 0.00011317338162064282, 'qualiti': 0.00022634676324128565, 'legaci': 0.00011317338162064282, 'unlik': 0.00011317338162064282, 'nyjet': 0.00011317338162064282, 'gopatriot': 0.00011317338162064282, 'upinairclair': 0.00011317338162064282, '-today': 0.00011317338162064282, 'msp': 0.00011317338162064282, 'level': 0.00011317338162064282, 'father': 0.00022634676324128565, 'earnedmybusi': 0.00011317338162064282, 'karajusto': 0.00011317338162064282, 'purchas': 0.00022634676324128565, 'things…': 0.00011317338162064282, 'dal': 0.00011317338162064282, 'delta': 0.0003395201448619285, 'transfer': 0.00011317338162064282, 'cheap': 0.00011317338162064282, 'early/on': 0.00011317338162064282, 'jsumiyasu': 0.00011317338162064282, 'auciello': 0.00011317338162064282, 'transpir': 0.00011317338162064282, '^jh': 0.00011317338162064282, 'lostinlov': 0.00011317338162064282, 'w/our': 0.00011317338162064282, 'wemosaictogeth': 0.00011317338162064282, 'stair': 0.00022634676324128565, 'distanc': 0.00011317338162064282, 'flightedflight': 0.00011317338162064282, 'yvonn': 0.00022634676324128565, 'anthoni': 0.0003395201448619285, 'tel': 0.00011317338162064282, 'aviv': 0.00011317338162064282, 'happyfriday': 0.00011317338162064282, 'admir': 0.00022634676324128565, ':crying_fac': 0.0003395201448619285, '2009': 0.00011317338162064282, 'event': 0.00011317338162064282, 'due': 0.0003395201448619285, '20': 0.00011317338162064282, '18': 0.00011317338162064282, 'hr': 0.00022634676324128565, 'w/o': 0.00022634676324128565, '50': 0.00022634676324128565, 'essenti': 0.00011317338162064282, 'brighter': 0.00011317338162064282, 'combin': 0.00022634676324128565, 'red': 0.00011317338162064282, 'carpet': 0.00011317338162064282, 'panam': 0.00011317338162064282, 'jb': 0.00022634676324128565, 'ath': 0.00011317338162064282, 'dming': 0.00022634676324128565, 'neverchang': 0.00011317338162064282, 'gluten': 0.00011317338162064282, 'while': 0.00011317338162064282, '556': 0.00011317338162064282, 'membership': 0.00011317338162064282, 'amid': 0.00011317338162064282, 'hassl': 0.00011317338162064282, 'becki': 0.00011317338162064282, 'piela': 0.00011317338162064282, 'orang': 0.00011317338162064282, 'counti': 0.00011317338162064282, 'iov': 0.00011317338162064282, '2/20': 0.00011317338162064282, 'ap': 0.00011317338162064282, 'b91': 0.00011317338162064282, 'santa': 0.00011317338162064282, 'fe': 0.00011317338162064282, 'ashley': 0.00011317338162064282, 'face': 0.00011317338162064282, 'premier': 0.00011317338162064282, 'reimburs': 0.00011317338162064282, 'portion': 0.00011317338162064282, 'seattl': 0.00011317338162064282, 'udub': 0.00011317338162064282, 'cameron__ro': 0.00011317338162064282, 'purpos': 0.00011317338162064282, 'manag': 0.00011317338162064282, 'sort': 0.00022634676324128565, 'tool': 0.00011317338162064282, 'dustyob': 0.00011317338162064282, 'w/mi': 0.00011317338162064282, 'son': 0.00011317338162064282, 'infant/toddl': 0.00011317338162064282, 'featur': 0.00011317338162064282, 'fyi': 0.00011317338162064282, 'carol': 0.00011317338162064282, 'lightn': 0.00011317338162064282, 'non': 0.00011317338162064282, 'cmh-oak': 0.00011317338162064282, 'daydream': 0.00011317338162064282, 'bay': 0.00011317338162064282, 'ohioprobz': 0.00011317338162064282, 'downtown': 0.00011317338162064282, 'lo': 0.00011317338162064282, 'angel': 0.00022634676324128565, 'hollywood': 0.00011317338162064282, 'rain': 0.00011317338162064282, 'mountain': 0.00022634676324128565, 'portcolumbuscmh': 0.00011317338162064282, 'unserv': 0.00011317338162064282, 'often': 0.00022634676324128565, 'michaelbcoleman': 0.00011317338162064282, 'byebyeusairlin': 0.00011317338162064282, 'exact': 0.00011317338162064282, 'pricey': 0.00011317338162064282, 'basic': 0.00011317338162064282, 'tmrw': 0.00011317338162064282, 'expedia': 0.00011317338162064282, 'costum': 0.00011317338162064282, 'makingthingseasi': 0.00011317338162064282, 'feelbett': 0.00011317338162064282, 'liveri': 0.00011317338162064282, 'cultur': 0.00011317338162064282, '16000+': 0.00011317338162064282, 'embodi': 0.00011317338162064282, 'thanksdav': 0.00011317338162064282, 'hour+': 0.00011317338162064282, 'contact': 0.00022634676324128565, 'comment': 0.00011317338162064282, 'enhanc': 0.00011317338162064282, 'relat': 0.00011317338162064282, 'grinning_face_with_smiling_ey': 0.00011317338162064282, 'hotel': 0.00011317338162064282, 'aha': 0.00011317338162064282, 'dead': 0.00011317338162064282, 'kati': 0.00011317338162064282, 'c47': 0.00011317338162064282, 'intern': 0.0003395201448619285, 'recent': 0.00011317338162064282, 'affect': 0.00011317338162064282, 'bizarr': 0.00011317338162064282, 'focu': 0.00011317338162064282, 'businessfirst': 0.00011317338162064282, '2+': 0.00011317338162064282, 'layov': 0.00011317338162064282, 'rsw': 0.00022634676324128565, '-me': 0.00011317338162064282, 'twin': 0.00011317338162064282, 'old': 0.00011317338162064282, 'boy': 0.00011317338162064282, 'lifesav': 0.00011317338162064282, '25000': 0.00011317338162064282, 'allianc': 0.00022634676324128565, 'jilt': 0.00011317338162064282, 'moneyelsewher': 0.00011317338162064282, 'extraordinari': 0.00011317338162064282, 'goingforgreat': 0.00011317338162064282, ':sparkl': 0.00011317338162064282, 'always-': 0.00011317338162064282, 'party_popp': 0.00011317338162064282, ':party_popp': 0.00022634676324128565, 'ltaljx': 0.00011317338162064282, 'oma': 0.00011317338162064282, 'goodthingscom': 0.00011317338162064282, 'remind': 0.00022634676324128565, 'chillycvz': 0.00011317338162064282, 'thankgood': 0.00011317338162064282, 'mypompanobeach': 0.00011317338162064282, 'gotten': 0.00011317338162064282, 'room': 0.00011317338162064282, 'aboard': 0.00011317338162064282, 'lmao': 0.00011317338162064282, 'airfar': 0.00011317338162064282, 'ta': 0.00011317338162064282, 'eat': 0.00011317338162064282, 'dc-10': 0.00011317338162064282, 'bahama': 0.00011317338162064282, 'northeast': 0.00011317338162064282, 'threaten': 0.00011317338162064282, '10:35': 0.00011317338162064282, '9:20': 0.00011317338162064282, '~tom': 0.00011317338162064282, '1050': 0.00011317338162064282, 'grr': 0.00022634676324128565, 'young': 0.00011317338162064282, 'momma': 0.00011317338162064282, 'pay': 0.00022634676324128565, 'dear': 0.00011317338162064282, 'hit': 0.00022634676324128565, 'sever': 0.00011317338162064282, 'unfortun': 0.00011317338162064282, 'freez': 0.00011317338162064282, 'rain/sleet': 0.00011317338162064282, 'fitz': 0.00011317338162064282, '1326': 0.00011317338162064282, 'bwi/bo': 0.00011317338162064282, 'al': 0.00011317338162064282, 'kevinswan_': 0.00011317338162064282, 'alstdi': 0.00011317338162064282, 'a_life_story_': 0.00011317338162064282, 'way.big': 0.00011317338162064282, 'ground/outsid': 0.00011317338162064282, 'across': 0.00011317338162064282, 'fb': 0.00011317338162064282, 'post': 0.00022634676324128565, 'few': 0.0004526935264825713, 'older': 0.00011317338162064282, 'a320': 0.0003395201448619285, 'bostonlogan': 0.00011317338162064282, 'jetbluesofli': 0.00011317338162064282, 'stoke': 0.00011317338162064282, 'instrument': 0.00011317338162064282, 'involv': 0.00011317338162064282, '10/10': 0.00011317338162064282, 'shhhh': 0.00011317338162064282, 'receipt': 0.00011317338162064282, 'limit': 0.00011317338162064282, 'oz': 0.00011317338162064282, 'stand': 0.00011317338162064282, '1970.': 0.00011317338162064282, 'neworlean': 0.00011317338162064282, 'annual': 0.00011317338162064282, 'heinekenusacorp': 0.00011317338162064282, 'nation': 0.00011317338162064282, 'distributor': 0.00011317338162064282, 'confer': 0.00011317338162064282, 'livethelegend': 0.00011317338162064282, ':victory_hand': 0.0003395201448619285, '6:15': 0.00011317338162064282, 'baltimor': 0.00011317338162064282, 'lindsey': 0.00011317338162064282, 'resolut': 0.00011317338162064282, 'luvag': 0.00011317338162064282, 'ador': 0.00011317338162064282, 'fell': 0.00011317338162064282, 'asleep': 0.00011317338162064282, 'wet': 0.00011317338162064282, 'close': 0.00011317338162064282, 'alright': 0.00011317338162064282, 'aarp': 0.00011317338162064282, 'tfw1': 0.00011317338162064282, 'terra': 0.00011317338162064282, 'chip': 0.00011317338162064282, 'afternoon': 0.00022634676324128565, 'experienc': 0.00011317338162064282, 'jeff_hofmann': 0.00011317338162064282, 'denisejtaylor': 0.00011317338162064282, 'laurieameacham': 0.00011317338162064282, 'finest': 0.00011317338162064282, 'sav': 0.00011317338162064282, 'nyc-jfk': 0.00011317338162064282, 'applepay': 0.00011317338162064282, 'uncomfort': 0.00011317338162064282, 'comfort': 0.00011317338162064282, 'welcom': 0.0004526935264825713, '2302': 0.00011317338162064282, '1776': 0.00011317338162064282, 'whoa': 0.00011317338162064282, 'unamused_fac': 0.00011317338162064282, 'virginatlant': 0.00011317338162064282, 'obsess': 0.00011317338162064282, 'entir': 0.00022634676324128565, 'field': 0.00011317338162064282, 'spirit': 0.00011317338162064282, 'surpris': 0.00011317338162064282, 'fastest': 0.00022634676324128565, 'q2': 0.00011317338162064282, 'q3': 0.00022634676324128565, '2014.': 0.00011317338162064282, '10th': 0.00011317338162064282, 'bump': 0.00011317338162064282, 'fat': 0.00011317338162064282, 'whatev': 0.00011317338162064282, 'convo': 0.00011317338162064282, 'vodkaton': 0.00011317338162064282, 'cocktail_glass': 0.00011317338162064282, 'congrat': 0.00022634676324128565, 'fidencio': 0.00011317338162064282, 'ok_hand': 0.00022634676324128565, 'closepwc': 0.00011317338162064282, 'broken': 0.00011317338162064282, 'ramp': 0.00011317338162064282, 'nick': 0.00011317338162064282, '742': 0.00011317338162064282, 'reward': 0.00011317338162064282, 'woohoo': 0.00011317338162064282, 'preggo': 0.00011317338162064282, 'hormon': 0.00011317338162064282, 'wear': 0.00011317338162064282, 'truebluecolor': 0.00011317338162064282, '162': 0.00011317338162064282, 'smf': 0.00011317338162064282, 'delaney': 0.00011317338162064282, 'shawn': 0.00011317338162064282, 'happili': 0.00011317338162064282, 'choos': 0.00011317338162064282, 'sad': 0.00011317338162064282, '25': 0.00011317338162064282, 'hou': 0.00011317338162064282, 'charleston': 0.00011317338162064282, 'nc': 0.00022634676324128565, '2littlebird': 0.00011317338162064282, 'quicki': 0.00011317338162064282, 'owe': 0.00011317338162064282, 'construct': 0.00011317338162064282, 'critic': 0.00011317338162064282, 'holdon': 0.00011317338162064282, 'everythingsgonnabealright': 0.00011317338162064282, 'truebluelov': 0.00011317338162064282, 'attempt': 0.00011317338162064282, 'happier': 0.00011317338162064282, 'e9': 0.00011317338162064282, 'premium': 0.00011317338162064282, 'jason': 0.00011317338162064282, '108639': 0.00011317338162064282, 'stellarservic': 0.00011317338162064282, 'cheapoairchat': 0.00011317338162064282, 'makingloveoutofnothingatal': 0.00011317338162064282, 'item': 0.00022634676324128565, 'resol': 0.00022634676324128565, 'septemb': 0.00011317338162064282, 'lbb': 0.00011317338162064282, 'tripofalifetim': 0.00011317338162064282, 'jua': 0.00011317338162064282, \"'just\": 0.00011317338162064282, '1583': 0.00011317338162064282, '6am': 0.00011317338162064282, 'aw': 0.00011317338162064282, 'sit': 0.00022634676324128565, 'soooo': 0.00011317338162064282, 'beverag': 0.00011317338162064282, 'ny-er': 0.00011317338162064282, 'happytweet': 0.00011317338162064282, 'consid': 0.00011317338162064282, 'popul': 0.00011317338162064282, 'between': 0.00011317338162064282, 'sat': 0.00022634676324128565, 'worrisom': 0.00011317338162064282, 'jackson': 0.00011317338162064282, 'ms': 0.00011317338162064282, 'terribl': 0.00011317338162064282, 'around': 0.00011317338162064282, 'horribl': 0.00011317338162064282, 'consider': 0.00022634676324128565, 'p': 0.00011317338162064282, 'letter': 0.00011317338162064282, 'sweetheart': 0.00011317338162064282, 'altonbrownl': 0.00011317338162064282, 'sohappi': 0.00011317338162064282, '4649': 0.00011317338162064282, 'louisvil': 0.00011317338162064282, 'kid': 0.00011317338162064282, 'timieyancey': 0.00011317338162064282, 'cutest': 0.00011317338162064282, 'salt': 0.00011317338162064282, 'pepper': 0.00011317338162064282, 'shaker': 0.00011317338162064282, 'requir': 0.00011317338162064282, 'cut': 0.00011317338162064282, 'place': 0.00011317338162064282, 'lhrt2': 0.00011317338162064282, 'remot': 0.00011317338162064282, 'reliabl': 0.00011317338162064282, 'anxiou': 0.00011317338162064282, 'bill': 0.00011317338162064282, 'georgia': 0.00011317338162064282, 'deic': 0.00011317338162064282, 'helpful.i': 0.00011317338162064282, 'guessweflyingdelta': 0.00011317338162064282, 'tmobil': 0.00011317338162064282, 'text': 0.00022634676324128565, '40000': 0.00011317338162064282, 'feet': 0.00011317338162064282, 'tier': 0.00011317338162064282, 'mardigras2015': 0.00011317338162064282, 'industri': 0.00011317338162064282, 'lastella': 0.00011317338162064282, 'def': 0.00011317338162064282, 'hook': 0.0003395201448619285, 'pump': 0.00011317338162064282, 'unpredict': 0.00011317338162064282, 'pound': 0.00011317338162064282, 'oncoming_fist': 0.00011317338162064282, 'depend': 0.00011317338162064282, 'western': 0.00011317338162064282, 'hemispher': 0.00011317338162064282, 'belong': 0.00011317338162064282, 'skyteam': 0.00011317338162064282, 'approach': 0.00011317338162064282, 'ann': 0.00011317338162064282, 'excellentcustomerservic': 0.00011317338162064282, 'vacay': 0.00011317338162064282, 'sarita': 0.00011317338162064282, 'napkin': 0.00011317338162064282, 'reebok': 0.00011317338162064282, 'rockinwel': 0.00011317338162064282, 'larri': 0.00011317338162064282, 'fedora': 0.00011317338162064282, 'beefjerki': 0.00011317338162064282, 'interim': 0.00011317338162064282, 'cost': 0.00011317338162064282, 'stuff': 0.00011317338162064282, 'wind': 0.00011317338162064282, 'admit': 0.00011317338162064282, 'peac': 0.00011317338162064282, '415': 0.00011317338162064282, 'suit': 0.00011317338162064282, 'saw': 0.00011317338162064282, 'mention': 0.00011317338162064282, 'neg': 0.00011317338162064282, 'gratitud': 0.00011317338162064282, 'united_st': 0.00011317338162064282, 'netneutr': 0.00011317338162064282, 'priorit': 0.00011317338162064282, 'traffic': 0.00011317338162064282, 'web': 0.00011317338162064282, 'charl': 0.00011317338162064282, 'cave': 0.00011317338162064282, 'glass': 0.00011317338162064282, 'thought': 0.00011317338162064282, 'op': 0.00011317338162064282, 'rich': 0.00011317338162064282, 'westagard': 0.00011317338162064282, 'n': 0.00022634676324128565, 'att': 0.00011317338162064282, 'nanci': 0.00011317338162064282, 'airport.held': 0.00011317338162064282, '1027': 0.00011317338162064282, 'bu': 0.00011317338162064282, 'customersfirst': 0.00011317338162064282, 'keepitup': 0.00011317338162064282, 'upgrade-': 0.00011317338162064282, 'approv': 0.00011317338162064282, '4146': 0.00011317338162064282, 'phi': 0.00011317338162064282, 'staf': 0.00011317338162064282, 'freecomedyshow': 0.00011317338162064282, 'newlifetimecustom': 0.00011317338162064282, 'champagn': 0.00011317338162064282, 'aa153': 0.00011317338162064282, 'ord-nrt': 0.00011317338162064282, 'tokyomarathon2015': 0.00011317338162064282, 'finish': 0.00011317338162064282, 'plate': 0.00011317338162064282, 'tonit': 0.00011317338162064282, 'hometown': 0.00011317338162064282, 'neighbor': 0.00011317338162064282, 'savethediagon': 0.00011317338162064282, 'flyquiet': 0.00011317338162064282, 'ordnois': 0.00011317338162064282, 'em': 0.00011317338162064282, 'bonus': 0.00011317338162064282, 'ewr-sti': 0.00011317338162064282, 'season': 0.00011317338162064282, '35a': 0.00011317338162064282, '_austrian': 0.00011317338162064282, 'guess': 0.00011317338162064282, 'awhil': 0.00011317338162064282, 'longer': 0.00011317338162064282, 'brush': 0.00011317338162064282, 'ran': 0.00011317338162064282, 'superben': 0.00011317338162064282, 'fit': 0.00011317338162064282, 'robert': 0.00011317338162064282, 'cun': 0.00022634676324128565, 'automat': 0.00011317338162064282, 'condol': 0.00011317338162064282, 'feelingtheluv': 0.00011317338162064282, 'frank': 0.00011317338162064282, 'hoot': 0.00011317338162064282, 'winking_face_with_tongu': 0.00011317338162064282, 'subscrib': 0.00011317338162064282, 'rr': 0.00011317338162064282, 'expir': 0.00011317338162064282, '2062': 0.00011317338162064282, 'pre': 0.00011317338162064282, 'dawn': 0.00011317338162064282, '-pilot': 0.00011317338162064282, 'personnel': 0.00011317338162064282, 'blame': 0.00011317338162064282, 'gent': 0.00011317338162064282, 'bos-mco': 0.00011317338162064282, 'waiver': 0.00011317338162064282, 'forget': 0.00011317338162064282, 'divers': 0.00011317338162064282, 'ahah': 0.00011317338162064282, ':musical_not': 0.00011317338162064282, ':red_exclamation_mark': 0.00011317338162064282, '^^': 0.00011317338162064282, 'buffalo': 0.00022634676324128565, 'trade': 0.00011317338162064282, 'colder': 0.00011317338162064282, 'caribbean': 0.00011317338162064282, '30+': 0.00011317338162064282, 'mccarran': 0.00011317338162064282, 'c16': 0.00011317338162064282, 'warmer': 0.00011317338162064282, 'appear': 0.00011317338162064282, 'flaw': 0.00011317338162064282, 'girl': 0.00011317338162064282, 'luvsw': 0.00011317338162064282, 'a-list': 0.00011317338162064282, 'refer': 0.00011317338162064282, 'id': 0.00011317338162064282, 'ind43728m': 0.00011317338162064282, 'quot': 0.00011317338162064282, 'chair': 0.00011317338162064282, 'selfi': 0.00022634676324128565, 'stacycrossb6': 0.00011317338162064282, 'phlairport': 0.00011317338162064282, 'saharasam': 0.00011317338162064282, 'flawless': 0.00011317338162064282, 'bluehero': 0.00011317338162064282, 'guinea': 0.00011317338162064282, 'pig': 0.00011317338162064282, 'pet': 0.00011317338162064282, 'wn3946': 0.00011317338162064282, 'san-sfo': 0.00011317338162064282, 'brilliant': 0.00011317338162064282, 'rita': 0.00011317338162064282, 'hilari': 0.00022634676324128565, 'forc': 0.00011317338162064282, '-in': 0.00011317338162064282, 'carri': 0.00011317338162064282, 'spent': 0.00011317338162064282, 'money': 0.00011317338162064282, 'size': 0.00011317338162064282, 'toiletri': 0.00011317338162064282, 'print': 0.00011317338162064282, 'jfk-lax': 0.00011317338162064282, 'amen': 0.00011317338162064282, 'function': 0.00022634676324128565, 'nocharg': 0.00011317338162064282, '2/2': 0.00011317338162064282, 'goodcustomerservic': 0.00011317338162064282, 'oti': 0.00011317338162064282, 'gang': 0.00011317338162064282, 'hous': 0.00011317338162064282, 'shoutout': 0.00011317338162064282, '/': 0.00011317338162064282, '336': 0.00011317338162064282, '823': 0.00011317338162064282, '3075-': 0.00011317338162064282, 'none': 0.00011317338162064282, 'weird': 0.00011317338162064282, 'busiest': 0.00011317338162064282, 'flight…': 0.00011317338162064282, 'par': 0.00011317338162064282, 'slide': 0.00011317338162064282, 'coupl': 0.00022634676324128565, 'four': 0.00011317338162064282, '8.5': 0.00011317338162064282, 'gfc': 0.00022634676324128565, 'match': 0.00011317338162064282, 'heaven': 0.00011317338162064282, 'fave': 0.00011317338162064282, 'hmm': 0.00011317338162064282, 'u.k.': 0.00011317338162064282, 'highli': 0.00011317338162064282, 'decent': 0.00011317338162064282, 'overnight': 0.00011317338162064282, 'emaleesugano': 0.00011317338162064282, 'snag': 0.00011317338162064282, '912.': 0.00011317338162064282, 'herman': 0.00011317338162064282, 'play': 0.00011317338162064282, 'ambassador': 0.00011317338162064282, 'woman': 0.00011317338162064282, 'lead': 0.00011317338162064282, 'c26': 0.00011317338162064282, '103': 0.00011317338162064282, 'it-': 0.00011317338162064282, 'less': 0.00011317338162064282, 'pain': 0.00011317338162064282, 'avi': 0.00011317338162064282, 'eyyyi': 0.00011317338162064282, 'wink': 0.00011317338162064282, 'sivi': 0.00011317338162064282, 'stewart': 0.00011317338162064282, '1k': 0.00011317338162064282, 'us651621': 0.00011317338162064282, 'yesso': 0.00011317338162064282, 'cxl': 0.00011317338162064282, 'pax': 0.00011317338162064282, 'cannedtweet': 0.00011317338162064282, 'autorespons': 0.00011317338162064282, 'mintyfresh': 0.00011317338162064282, 'honeymoon': 0.00011317338162064282, 'pgashow': 0.00011317338162064282, 'mosaic': 0.00011317338162064282, 'easier': 0.00011317338162064282, 'r/schedul': 0.00011317338162064282, 'solv': 0.00011317338162064282, 'bringbacktheluvtordu': 0.00011317338162064282, 'directflight': 0.00011317338162064282, 'buzz': 0.00011317338162064282, 'nl': 0.00011317338162064282, 'devic': 0.00011317338162064282, 'heart_suit': 0.00011317338162064282, 'utah': 0.00011317338162064282, 'velourl': 0.00011317338162064282, ':seat': 0.00011317338162064282, 'truebluepoint': 0.00011317338162064282, 'jetbluememb': 0.00011317338162064282, 'myer': 0.00011317338162064282, 'blown': 0.00011317338162064282, 'custserv': 0.00011317338162064282}\n"
     ]
    }
   ],
   "source": [
    "#print positive likelihoods\n",
    "print(\"Likelihoods for positive class:\", dict(likelihoodMS[1]))"
   ]
  },
  {
   "cell_type": "code",
   "execution_count": 28,
   "id": "e2037da4-f238-4c17-8274-5edd7a9e7457",
   "metadata": {},
   "outputs": [
    {
     "name": "stdout",
     "output_type": "stream",
     "text": [
      "8440\n"
     ]
    }
   ],
   "source": [
    "#Print negative likelihoods\n",
    "#print(\"Likelihoods for positive class:\", dict(likelihoodMS[0]))\n",
    "print (total_vocab_nostem)"
   ]
  },
  {
   "cell_type": "code",
   "execution_count": null,
   "id": "e743dc5e-13a1-479a-98b9-d4d401a42643",
   "metadata": {},
   "outputs": [],
   "source": []
  }
 ],
 "metadata": {
  "kernelspec": {
   "display_name": "Python 3 (ipykernel)",
   "language": "python",
   "name": "python3"
  },
  "language_info": {
   "codemirror_mode": {
    "name": "ipython",
    "version": 3
   },
   "file_extension": ".py",
   "mimetype": "text/x-python",
   "name": "python",
   "nbconvert_exporter": "python",
   "pygments_lexer": "ipython3",
   "version": "3.11.7"
  }
 },
 "nbformat": 4,
 "nbformat_minor": 5
}
