{
 "cells": [
  {
   "cell_type": "markdown",
   "id": "df9a2e9d-5fa4-4b11-aed9-d3227721feea",
   "metadata": {},
   "source": [
    "### Import data from text files"
   ]
  },
  {
   "cell_type": "code",
   "execution_count": 3,
   "id": "7e4da4ca-649d-4a3e-b623-e62e73f4c0b2",
   "metadata": {},
   "outputs": [],
   "source": [
    "import os\n",
    "import glob\n",
    "import re\n",
    "import nltk\n",
    "from nltk.stem import PorterStemmer\n",
    "from nltk.tokenize import word_tokenize\n",
    "from bs4 import BeautifulSoup\n",
    "import emoji\n",
    "from collections import Counter"
   ]
  },
  {
   "cell_type": "code",
   "execution_count": 4,
   "id": "48c8c4e9-7613-4155-9808-13a7fa06f14e",
   "metadata": {},
   "outputs": [],
   "source": [
    "import os\n",
    "import glob\n",
    "\n",
    "def load_data(base_path):\n",
    "    data = []\n",
    "    labels = []\n",
    "    os.chdir(base_path)\n",
    "    \n",
    "    for sentiment in ['positive', 'negative']:\n",
    "        os.chdir(sentiment)\n",
    "        files = glob.glob('*.txt')\n",
    "        for file_name in files:\n",
    "            with open(file_name, 'r', encoding='utf-8') as file:\n",
    "                content = file.read().strip()\n",
    "                data.append(content)\n",
    "                labels.append(1 if sentiment == 'positive' else 0)\n",
    "        \n",
    "        os.chdir('..')\n",
    "\n",
    "    os.chdir('..')\n",
    "    return data, labels\n",
    "\n",
    "base_path = '.'\n",
    "train_data, train_labels = load_data(base_path + '/train')\n",
    "test_data, test_labels = load_data(base_path + '/test')\n"
   ]
  },
  {
   "cell_type": "code",
   "execution_count": 5,
   "id": "42ceac39-6497-4bc6-ace4-0743fe4d0074",
   "metadata": {
    "tags": []
   },
   "outputs": [
    {
     "name": "stdout",
     "output_type": "stream",
     "text": [
      "['@SouthwestAir I would appreciate that.  Thank you.', '@USAirways thank you very much.', \"@JetBlue I'm all set. About to fly. Not bad for a first date with a giant metal bird machine. She even brought snacks.\", '@SouthwestAir I got a flight at 11:55am on Thursday but looking for something tomorrow anything available?', \"@AmericanAir you're my early frontrunner for best airline! #oscars2016\"]\n",
      "['@united maybe on my return trip 👍', \"@AmericanAir no kidding! Gonna take some beating on the apron... And there are some good lookin' planes out there!\", '@AmericanAir thanks', '@AmericanAir many trips coming up!  I will see you soon 😃', '@JetBlue Thank you guys! Brilliant customer service']\n"
     ]
    }
   ],
   "source": [
    "print(train_data[:5])\n",
    "print(test_data[:5])"
   ]
  },
  {
   "cell_type": "markdown",
   "id": "e63407b9-118d-4475-ae44-5f5d367ccabc",
   "metadata": {},
   "source": [
    "### Clean data"
   ]
  },
  {
   "cell_type": "markdown",
   "id": "8b54fd3a-535f-4601-9a74-1b6bc9585df2",
   "metadata": {},
   "source": [
    "#### Lowercase capitals at the beginning of words"
   ]
  },
  {
   "cell_type": "code",
   "execution_count": 8,
   "id": "ae12b30e-9b4b-4053-be4b-2abf4694f0f1",
   "metadata": {
    "tags": []
   },
   "outputs": [],
   "source": [
    "def lowercase_caps(text):\n",
    "\n",
    "    def lower_first_letter(match):\n",
    "        return match.group(1) + match.group(2).lower() + match.group(3)\n",
    "\n",
    "    pattern = r'(\\A|\\.\\s+|\\?\\s+|!\\s+)([A-Z])(\\w*)'\n",
    "    result = re.sub(pattern, lower_first_letter, text)\n",
    "    \n",
    "    return result"
   ]
  },
  {
   "cell_type": "code",
   "execution_count": 9,
   "id": "d324e1c1-d687-491a-815b-46568f74fe02",
   "metadata": {
    "tags": []
   },
   "outputs": [],
   "source": [
    "train_lower = [lowercase_caps(tweet) for tweet in train_data]\n",
    "test_lower = [lowercase_caps(tweet) for tweet in test_data]"
   ]
  },
  {
   "cell_type": "code",
   "execution_count": null,
   "id": "275f9768-f1e0-46fc-b90b-f5c292444077",
   "metadata": {},
   "outputs": [],
   "source": []
  },
  {
   "cell_type": "markdown",
   "id": "e2bd588c-3450-440f-a15a-8402f2dbf15b",
   "metadata": {},
   "source": [
    "#### Tokenize, build vocabulary"
   ]
  },
  {
   "cell_type": "code",
   "execution_count": 14,
   "id": "70fc6b74-3cd7-4c34-a57c-c0c963faac86",
   "metadata": {},
   "outputs": [],
   "source": [
    "def demojize_text(text):\n",
    "    return emoji.demojize(text)\n",
    "\n",
    "train_lower_demoj = [demojize_text(tweet) for tweet in train_lower]\n",
    "test_lower_demoj = [demojize_text(tweet) for tweet in test_lower]"
   ]
  },
  {
   "cell_type": "markdown",
   "id": "341aec10-0560-40d2-88b1-60257d8936c9",
   "metadata": {},
   "source": [
    "#### Create 2 versions of V: with stemming and without stemming"
   ]
  },
  {
   "cell_type": "code",
   "execution_count": 17,
   "id": "f318f889-b6b2-4003-a612-dd4c0c4962f3",
   "metadata": {
    "tags": []
   },
   "outputs": [],
   "source": [
    "def tokenize(text):\n",
    "    return word_tokenize(text)\n",
    "\n",
    "def stem_tokens(tokens, stemmer):\n",
    "    return [stemmer.stem(token) for token in tokens]\n",
    "\n",
    "def build_vocabulary(texts, use_stemming=False):\n",
    "    \"\"\" Build vocabulary with optional stemming \"\"\"\n",
    "    stemmer = PorterStemmer()\n",
    "    vocabulary = Counter()\n",
    "\n",
    "    for text in texts:\n",
    "        tokens = tokenize(text)\n",
    "        if use_stemming:\n",
    "            tokens = stem_tokens(tokens, stemmer)\n",
    "        vocabulary.update(tokens)\n",
    "\n",
    "    return list(vocabulary.keys())"
   ]
  },
  {
   "cell_type": "code",
   "execution_count": 21,
   "id": "b3cca02a-3d03-4c1b-9724-587916c1e374",
   "metadata": {
    "tags": []
   },
   "outputs": [
    {
     "name": "stdout",
     "output_type": "stream",
     "text": [
      "V without Stemming: ['@', 'SouthwestAir', 'I', 'would', 'appreciate', 'that', '.', 'thank', 'you', 'USAirways', 'very', 'much', 'JetBlue', \"'m\", 'all', 'set', 'about', 'to', 'fly', 'not', 'bad', 'for', 'a', 'first', 'date', 'with', 'giant', 'metal', 'bird', 'machine', 'she', 'even', 'brought', 'snacks', 'got', 'flight', 'at', '11:55am', 'on', 'Thursday', 'but', 'looking', 'something', 'tomorrow', 'anything', 'available', '?', 'AmericanAir', \"'re\", 'my', 'early', 'frontrunner', 'best', 'airline', '!', '#', 'oscars2016', 'RedCarpet', 'Southwest', 'Companion', 'Pass', 'be', 'great', 'major', 'issues', 'getting', 'out', 'of', 'Boston', 'your', 'crew', 'has', 'been', 'exceptional', 'let', \"'s\", 'see', 'how', 'things', 'roll', 'in', 'Philly', 'thanks', 'i', 'prompt', 'response', 'united', 'such', 'relaxing', 'space', 'drink', 'before', '(', 'United', 'Global', 'First', 'Lounge', ')', 'https', ':']\n",
      "V with Stemming: ['@', 'southwestair', 'i', 'would', 'appreci', 'that', '.', 'thank', 'you', 'usairway']\n"
     ]
    }
   ],
   "source": [
    "v_stemming = build_vocabulary(train_lower_demoj, use_stemming=False)\n",
    "v_no_stemming = build_vocabulary(train_lower_demoj, use_stemming=True)\n",
    "\n",
    "print(\"V without Stemming:\", v_stemming[:100])\n",
    "print(\"V with Stemming:\", v_no_stemming[:10])"
   ]
  },
  {
   "cell_type": "code",
   "execution_count": null,
   "id": "5c181a7b-cfab-410c-94d0-40404cb60cbf",
   "metadata": {},
   "outputs": [],
   "source": [
    "import pandas as pd"
   ]
  },
  {
   "cell_type": "code",
   "execution_count": null,
   "id": "02b637d9",
   "metadata": {},
   "outputs": [],
   "source": [
    "# dictionary of lists \n",
    "dictionary = {'text': train_data, 'label': train_labels} \n",
    "   \n",
    "df = pd.DataFrame(dictionary)\n",
    "\n",
    "df.head()"
   ]
  },
  {
   "cell_type": "code",
   "execution_count": null,
   "id": "dfcdb61d",
   "metadata": {},
   "outputs": [],
   "source": [
    "positive_words_stemmed = []\n",
    "positive_words_nostem = []\n",
    "\n",
    "#list of all words where label = 1\n",
    "for index, row in df[df['label'] == 1].iterrows():\n",
    "    lower_tweet = lowercase_caps(row['text'])\n",
    "    demoj_tweet = demojize_text(lower_tweet)\n",
    "    tokenized_tweet = word_tokenize(demoj_tweet)\n",
    "    \n",
    "    positive_words_stemmed.extend(build_vocabulary(tokenized_tweet, use_stemming=True))\n",
    "    positive_words_nostem.extend(build_vocabulary(tokenized_tweet, use_stemming=False))"
   ]
  },
  {
   "cell_type": "code",
   "execution_count": null,
   "id": "7dae351e",
   "metadata": {},
   "outputs": [],
   "source": [
    "negative_words_stemmed = []\n",
    "negative_words_nostem = []\n",
    "\n",
    "#list of all words where label= 0\n",
    "for index, row in df[df['label'] == 0].iterrows():\n",
    "    lower_tweet = lowercase_caps(row['text'])\n",
    "    demoj_tweet = demojize_text(lower_tweet)\n",
    "    tokenized_tweet = word_tokenize(demoj_tweet)\n",
    "    \n",
    "    negative_words_stemmed.extend(build_vocabulary(tokenized_tweet, use_stemming=True))\n",
    "    negative_words_nostem.extend(build_vocabulary(tokenized_tweet, use_stemming=False))"
   ]
  },
  {
   "cell_type": "code",
   "execution_count": null,
   "id": "f28e6e7f",
   "metadata": {},
   "outputs": [],
   "source": [
    "#using the stemmed words for now\n",
    "positive_words= set(positive_words_stemmed)\n",
    "\n",
    "negative_words= set(negative_words_stemmed)\n",
    "\n",
    "#create the dictionary\n",
    "positive_words_dict = {word: 1 for word in positive_words}\n",
    "negative_words_dict = {word: 0 for word in negative_words}\n",
    "\n",
    "#combine both dictionaries\n",
    "combined_dict = {**positive_words_dict, **negative_words_dict}\n",
    "\n",
    "print(combined_dict)"
   ]
  }
 ],
 "metadata": {
  "kernelspec": {
   "display_name": "Python 3 (ipykernel)",
   "language": "python",
   "name": "python3"
  },
  "language_info": {
   "codemirror_mode": {
    "name": "ipython",
    "version": 3
   },
   "file_extension": ".py",
   "mimetype": "text/x-python",
   "name": "python",
   "nbconvert_exporter": "python",
   "pygments_lexer": "ipython3",
   "version": "3.10.14"
  }
 },
 "nbformat": 4,
 "nbformat_minor": 5
}
