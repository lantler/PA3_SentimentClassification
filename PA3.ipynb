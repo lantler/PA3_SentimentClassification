{
 "cells": [
  {
   "cell_type": "markdown",
   "id": "df9a2e9d-5fa4-4b11-aed9-d3227721feea",
   "metadata": {},
   "source": [
    "### Import data from text files"
   ]
  },
  {
   "cell_type": "code",
   "execution_count": 27,
   "id": "7e4da4ca-649d-4a3e-b623-e62e73f4c0b2",
   "metadata": {},
   "outputs": [],
   "source": [
    "import os\n",
    "import glob\n",
    "import re\n",
    "import nltk\n",
    "from nltk.stem import PorterStemmer\n",
    "from nltk.tokenize import word_tokenize\n",
    "from collections import Counter"
   ]
  },
  {
   "cell_type": "code",
   "execution_count": null,
   "id": "48c8c4e9-7613-4155-9808-13a7fa06f14e",
   "metadata": {},
   "outputs": [],
   "source": [
    "import os\n",
    "import glob\n",
    "\n",
    "def load_data(base_path):\n",
    "    data = []\n",
    "    labels = []\n",
    "    os.chdir(base_path)\n",
    "    \n",
    "    for sentiment in ['positive', 'negative']:\n",
    "        os.chdir(sentiment)\n",
    "        files = glob.glob('*.txt')\n",
    "        for file_name in files:\n",
    "            with open(file_name, 'r', encoding='utf-8') as file:\n",
    "                content = file.read().strip()\n",
    "                data.append(content)\n",
    "                labels.append(1 if sentiment == 'positive' else 0)\n",
    "        \n",
    "        os.chdir('..')\n",
    "\n",
    "    os.chdir('..')\n",
    "    return data, labels\n",
    "\n",
    "base_path = '.'\n",
    "train_data, train_labels = load_data(base_path + '/train')\n",
    "test_data, test_labels = load_data(base_path + '/test')\n"
   ]
  },
  {
   "cell_type": "code",
   "execution_count": 39,
   "id": "42ceac39-6497-4bc6-ace4-0743fe4d0074",
   "metadata": {
    "tags": []
   },
   "outputs": [
    {
     "name": "stdout",
     "output_type": "stream",
     "text": [
      "['@SouthwestAir I would appreciate that.  Thank you.', '@USAirways thank you very much.', \"@JetBlue I'm all set. About to fly. Not bad for a first date with a giant metal bird machine. She even brought snacks.\", '@SouthwestAir I got a flight at 11:55am on Thursday but looking for something tomorrow anything available?', \"@AmericanAir you're my early frontrunner for best airline! #oscars2016\"]\n",
      "['@united maybe on my return trip 👍', \"@AmericanAir no kidding! Gonna take some beating on the apron... And there are some good lookin' planes out there!\", '@AmericanAir thanks', '@AmericanAir many trips coming up!  I will see you soon 😃', '@JetBlue Thank you guys! Brilliant customer service']\n"
     ]
    }
   ],
   "source": [
    "print(train_data[:5])\n",
    "print(test_data[:5])"
   ]
  },
  {
   "cell_type": "markdown",
   "id": "e63407b9-118d-4475-ae44-5f5d367ccabc",
   "metadata": {},
   "source": [
    "### Clean data"
   ]
  },
  {
   "cell_type": "markdown",
   "id": "8b54fd3a-535f-4601-9a74-1b6bc9585df2",
   "metadata": {},
   "source": [
    "#### Lowercase capitals at the beginning of words"
   ]
  },
  {
   "cell_type": "code",
   "execution_count": 21,
   "id": "ae12b30e-9b4b-4053-be4b-2abf4694f0f1",
   "metadata": {
    "tags": []
   },
   "outputs": [],
   "source": [
    "def lowercase_caps(text):\n",
    "\n",
    "    def lower_first_letter(match):\n",
    "        return match.group(1) + match.group(2).lower() + match.group(3)\n",
    "\n",
    "    pattern = r'(\\A|\\.\\s+|\\?\\s+|!\\s+)([A-Z])(\\w*)'\n",
    "    result = re.sub(pattern, lower_first_letter, text)\n",
    "    \n",
    "    return result"
   ]
  },
  {
   "cell_type": "code",
   "execution_count": 25,
   "id": "d324e1c1-d687-491a-815b-46568f74fe02",
   "metadata": {
    "tags": []
   },
   "outputs": [],
   "source": [
    "train_lower = [lowercase_caps(tweet) for tweet in train_data]\n",
    "test_lower = [lowercase_caps(tweet) for tweet in test_data]"
   ]
  },
  {
   "cell_type": "markdown",
   "id": "e2bd588c-3450-440f-a15a-8402f2dbf15b",
   "metadata": {},
   "source": [
    "#### Tokenize, build vocabulary"
   ]
  },
  {
   "cell_type": "code",
   "execution_count": 44,
   "id": "f318f889-b6b2-4003-a612-dd4c0c4962f3",
   "metadata": {
    "tags": []
   },
   "outputs": [],
   "source": [
    "def tokenize(text):\n",
    "    return word_tokenize(text)\n",
    "\n",
    "def stem_tokens(tokens, stemmer):\n",
    "    return [stemmer.stem(token) for token in tokens]\n",
    "\n",
    "def build_vocabulary(texts, use_stemming=False):\n",
    "    stemmer = PorterStemmer()\n",
    "    vocabulary = Counter()\n",
    "\n",
    "    for text in texts:\n",
    "        tokens = tokenize(text)\n",
    "        if use_stemming:\n",
    "            tokens = stem_tokens(tokens, stemmer)\n",
    "        vocabulary.update(tokens)\n",
    "\n",
    "    return list(vocabulary.keys())"
   ]
  },
  {
   "cell_type": "markdown",
   "id": "341aec10-0560-40d2-88b1-60257d8936c9",
   "metadata": {},
   "source": [
    "#### Create 2 versions of V: with stemming and without stemming"
   ]
  },
  {
   "cell_type": "code",
   "execution_count": 46,
   "id": "b3cca02a-3d03-4c1b-9724-587916c1e374",
   "metadata": {
    "tags": []
   },
   "outputs": [
    {
     "name": "stdout",
     "output_type": "stream",
     "text": [
      "V without Stemming: ['@', 'SouthwestAir', 'I', 'would', 'appreciate', 'that', '.', 'thank', 'you', 'USAirways']\n",
      "V with Stemming: ['@', 'southwestair', 'i', 'would', 'appreci', 'that', '.', 'thank', 'you', 'usairway']\n"
     ]
    }
   ],
   "source": [
    "v_stemming = build_vocabulary(train_lower, use_stemming=False)\n",
    "v_no_stemming = build_vocabulary(train_lower, use_stemming=True)\n",
    "\n",
    "print(\"V without Stemming:\", v_stemming[:10])\n",
    "print(\"V with Stemming:\", v_no_stemming[:10])"
   ]
  },
  {
   "cell_type": "code",
   "execution_count": null,
   "id": "5c181a7b-cfab-410c-94d0-40404cb60cbf",
   "metadata": {},
   "outputs": [],
   "source": []
  }
 ],
 "metadata": {
  "kernelspec": {
   "display_name": "Python 3 (ipykernel)",
   "language": "python",
   "name": "python3"
  },
  "language_info": {
   "codemirror_mode": {
    "name": "ipython",
    "version": 3
   },
   "file_extension": ".py",
   "mimetype": "text/x-python",
   "name": "python",
   "nbconvert_exporter": "python",
   "pygments_lexer": "ipython3",
   "version": "3.10.14"
  }
 },
 "nbformat": 4,
 "nbformat_minor": 5
}
